{
  "nbformat": 4,
  "nbformat_minor": 0,
  "metadata": {
    "colab": {
      "provenance": []
    },
    "kernelspec": {
      "name": "python3",
      "display_name": "Python 3"
    },
    "language_info": {
      "name": "python"
    }
  },
  "cells": [
    {
      "cell_type": "markdown",
      "source": [
        "#Importing Libraries#"
      ],
      "metadata": {
        "id": "Wf4pCrze9m6B"
      }
    },
    {
      "cell_type": "code",
      "source": [
        "import numpy as np\n",
        "import pandas as pd\n",
        "import seaborn as sns\n",
        "import matplotlib.pyplot as plt\n",
        "%matplotlib inline\n",
        "from sklearn.preprocessing import LabelEncoder, StandardScaler\n",
        "from keras.models import Sequential\n",
        "from keras.layers import Dense"
      ],
      "metadata": {
        "id": "jG--Q1YO3Atd"
      },
      "execution_count": null,
      "outputs": []
    },
    {
      "cell_type": "markdown",
      "source": [
        "##2)LOAD THE DATASET##\n"
      ],
      "metadata": {
        "id": "owNsyZJJ9eyc"
      }
    },
    {
      "cell_type": "code",
      "source": [
        "data=pd.read_csv('/content/sample_data/Housing.csv')"
      ],
      "metadata": {
        "id": "1N1zkVbk3aA5"
      },
      "execution_count": null,
      "outputs": []
    },
    {
      "cell_type": "code",
      "source": [
        "data"
      ],
      "metadata": {
        "colab": {
          "base_uri": "https://localhost:8080/",
          "height": 487
        },
        "id": "yPSncxH369qT",
        "outputId": "bd53c707-54b9-4098-9c91-92ab192a6bda"
      },
      "execution_count": null,
      "outputs": [
        {
          "output_type": "execute_result",
          "data": {
            "text/plain": [
              "        price  area  bedrooms  bathrooms  stories mainroad guestroom basement  \\\n",
              "0    13300000  7420         4          2        3      yes        no       no   \n",
              "1    12250000  8960         4          4        4      yes        no       no   \n",
              "2    12250000  9960         3          2        2      yes        no      yes   \n",
              "3    12215000  7500         4          2        2      yes        no      yes   \n",
              "4    11410000  7420         4          1        2      yes       yes      yes   \n",
              "..        ...   ...       ...        ...      ...      ...       ...      ...   \n",
              "540   1820000  3000         2          1        1      yes        no      yes   \n",
              "541   1767150  2400         3          1        1       no        no       no   \n",
              "542   1750000  3620         2          1        1      yes        no       no   \n",
              "543   1750000  2910         3          1        1       no        no       no   \n",
              "544   1750000  3850         3          1        2      yes        no       no   \n",
              "\n",
              "    hotwaterheating airconditioning  parking furnishingstatus  \n",
              "0                no             yes        2        furnished  \n",
              "1                no             yes        3        furnished  \n",
              "2                no              no        2   semi-furnished  \n",
              "3                no             yes        3        furnished  \n",
              "4                no             yes        2        furnished  \n",
              "..              ...             ...      ...              ...  \n",
              "540              no              no        2      unfurnished  \n",
              "541              no              no        0   semi-furnished  \n",
              "542              no              no        0      unfurnished  \n",
              "543              no              no        0        furnished  \n",
              "544              no              no        0      unfurnished  \n",
              "\n",
              "[545 rows x 12 columns]"
            ],
            "text/html": [
              "\n",
              "  <div id=\"df-cfe1698e-929f-49d3-a620-78fe72c678e8\">\n",
              "    <div class=\"colab-df-container\">\n",
              "      <div>\n",
              "<style scoped>\n",
              "    .dataframe tbody tr th:only-of-type {\n",
              "        vertical-align: middle;\n",
              "    }\n",
              "\n",
              "    .dataframe tbody tr th {\n",
              "        vertical-align: top;\n",
              "    }\n",
              "\n",
              "    .dataframe thead th {\n",
              "        text-align: right;\n",
              "    }\n",
              "</style>\n",
              "<table border=\"1\" class=\"dataframe\">\n",
              "  <thead>\n",
              "    <tr style=\"text-align: right;\">\n",
              "      <th></th>\n",
              "      <th>price</th>\n",
              "      <th>area</th>\n",
              "      <th>bedrooms</th>\n",
              "      <th>bathrooms</th>\n",
              "      <th>stories</th>\n",
              "      <th>mainroad</th>\n",
              "      <th>guestroom</th>\n",
              "      <th>basement</th>\n",
              "      <th>hotwaterheating</th>\n",
              "      <th>airconditioning</th>\n",
              "      <th>parking</th>\n",
              "      <th>furnishingstatus</th>\n",
              "    </tr>\n",
              "  </thead>\n",
              "  <tbody>\n",
              "    <tr>\n",
              "      <th>0</th>\n",
              "      <td>13300000</td>\n",
              "      <td>7420</td>\n",
              "      <td>4</td>\n",
              "      <td>2</td>\n",
              "      <td>3</td>\n",
              "      <td>yes</td>\n",
              "      <td>no</td>\n",
              "      <td>no</td>\n",
              "      <td>no</td>\n",
              "      <td>yes</td>\n",
              "      <td>2</td>\n",
              "      <td>furnished</td>\n",
              "    </tr>\n",
              "    <tr>\n",
              "      <th>1</th>\n",
              "      <td>12250000</td>\n",
              "      <td>8960</td>\n",
              "      <td>4</td>\n",
              "      <td>4</td>\n",
              "      <td>4</td>\n",
              "      <td>yes</td>\n",
              "      <td>no</td>\n",
              "      <td>no</td>\n",
              "      <td>no</td>\n",
              "      <td>yes</td>\n",
              "      <td>3</td>\n",
              "      <td>furnished</td>\n",
              "    </tr>\n",
              "    <tr>\n",
              "      <th>2</th>\n",
              "      <td>12250000</td>\n",
              "      <td>9960</td>\n",
              "      <td>3</td>\n",
              "      <td>2</td>\n",
              "      <td>2</td>\n",
              "      <td>yes</td>\n",
              "      <td>no</td>\n",
              "      <td>yes</td>\n",
              "      <td>no</td>\n",
              "      <td>no</td>\n",
              "      <td>2</td>\n",
              "      <td>semi-furnished</td>\n",
              "    </tr>\n",
              "    <tr>\n",
              "      <th>3</th>\n",
              "      <td>12215000</td>\n",
              "      <td>7500</td>\n",
              "      <td>4</td>\n",
              "      <td>2</td>\n",
              "      <td>2</td>\n",
              "      <td>yes</td>\n",
              "      <td>no</td>\n",
              "      <td>yes</td>\n",
              "      <td>no</td>\n",
              "      <td>yes</td>\n",
              "      <td>3</td>\n",
              "      <td>furnished</td>\n",
              "    </tr>\n",
              "    <tr>\n",
              "      <th>4</th>\n",
              "      <td>11410000</td>\n",
              "      <td>7420</td>\n",
              "      <td>4</td>\n",
              "      <td>1</td>\n",
              "      <td>2</td>\n",
              "      <td>yes</td>\n",
              "      <td>yes</td>\n",
              "      <td>yes</td>\n",
              "      <td>no</td>\n",
              "      <td>yes</td>\n",
              "      <td>2</td>\n",
              "      <td>furnished</td>\n",
              "    </tr>\n",
              "    <tr>\n",
              "      <th>...</th>\n",
              "      <td>...</td>\n",
              "      <td>...</td>\n",
              "      <td>...</td>\n",
              "      <td>...</td>\n",
              "      <td>...</td>\n",
              "      <td>...</td>\n",
              "      <td>...</td>\n",
              "      <td>...</td>\n",
              "      <td>...</td>\n",
              "      <td>...</td>\n",
              "      <td>...</td>\n",
              "      <td>...</td>\n",
              "    </tr>\n",
              "    <tr>\n",
              "      <th>540</th>\n",
              "      <td>1820000</td>\n",
              "      <td>3000</td>\n",
              "      <td>2</td>\n",
              "      <td>1</td>\n",
              "      <td>1</td>\n",
              "      <td>yes</td>\n",
              "      <td>no</td>\n",
              "      <td>yes</td>\n",
              "      <td>no</td>\n",
              "      <td>no</td>\n",
              "      <td>2</td>\n",
              "      <td>unfurnished</td>\n",
              "    </tr>\n",
              "    <tr>\n",
              "      <th>541</th>\n",
              "      <td>1767150</td>\n",
              "      <td>2400</td>\n",
              "      <td>3</td>\n",
              "      <td>1</td>\n",
              "      <td>1</td>\n",
              "      <td>no</td>\n",
              "      <td>no</td>\n",
              "      <td>no</td>\n",
              "      <td>no</td>\n",
              "      <td>no</td>\n",
              "      <td>0</td>\n",
              "      <td>semi-furnished</td>\n",
              "    </tr>\n",
              "    <tr>\n",
              "      <th>542</th>\n",
              "      <td>1750000</td>\n",
              "      <td>3620</td>\n",
              "      <td>2</td>\n",
              "      <td>1</td>\n",
              "      <td>1</td>\n",
              "      <td>yes</td>\n",
              "      <td>no</td>\n",
              "      <td>no</td>\n",
              "      <td>no</td>\n",
              "      <td>no</td>\n",
              "      <td>0</td>\n",
              "      <td>unfurnished</td>\n",
              "    </tr>\n",
              "    <tr>\n",
              "      <th>543</th>\n",
              "      <td>1750000</td>\n",
              "      <td>2910</td>\n",
              "      <td>3</td>\n",
              "      <td>1</td>\n",
              "      <td>1</td>\n",
              "      <td>no</td>\n",
              "      <td>no</td>\n",
              "      <td>no</td>\n",
              "      <td>no</td>\n",
              "      <td>no</td>\n",
              "      <td>0</td>\n",
              "      <td>furnished</td>\n",
              "    </tr>\n",
              "    <tr>\n",
              "      <th>544</th>\n",
              "      <td>1750000</td>\n",
              "      <td>3850</td>\n",
              "      <td>3</td>\n",
              "      <td>1</td>\n",
              "      <td>2</td>\n",
              "      <td>yes</td>\n",
              "      <td>no</td>\n",
              "      <td>no</td>\n",
              "      <td>no</td>\n",
              "      <td>no</td>\n",
              "      <td>0</td>\n",
              "      <td>unfurnished</td>\n",
              "    </tr>\n",
              "  </tbody>\n",
              "</table>\n",
              "<p>545 rows × 12 columns</p>\n",
              "</div>\n",
              "      <button class=\"colab-df-convert\" onclick=\"convertToInteractive('df-cfe1698e-929f-49d3-a620-78fe72c678e8')\"\n",
              "              title=\"Convert this dataframe to an interactive table.\"\n",
              "              style=\"display:none;\">\n",
              "        \n",
              "  <svg xmlns=\"http://www.w3.org/2000/svg\" height=\"24px\"viewBox=\"0 0 24 24\"\n",
              "       width=\"24px\">\n",
              "    <path d=\"M0 0h24v24H0V0z\" fill=\"none\"/>\n",
              "    <path d=\"M18.56 5.44l.94 2.06.94-2.06 2.06-.94-2.06-.94-.94-2.06-.94 2.06-2.06.94zm-11 1L8.5 8.5l.94-2.06 2.06-.94-2.06-.94L8.5 2.5l-.94 2.06-2.06.94zm10 10l.94 2.06.94-2.06 2.06-.94-2.06-.94-.94-2.06-.94 2.06-2.06.94z\"/><path d=\"M17.41 7.96l-1.37-1.37c-.4-.4-.92-.59-1.43-.59-.52 0-1.04.2-1.43.59L10.3 9.45l-7.72 7.72c-.78.78-.78 2.05 0 2.83L4 21.41c.39.39.9.59 1.41.59.51 0 1.02-.2 1.41-.59l7.78-7.78 2.81-2.81c.8-.78.8-2.07 0-2.86zM5.41 20L4 18.59l7.72-7.72 1.47 1.35L5.41 20z\"/>\n",
              "  </svg>\n",
              "      </button>\n",
              "      \n",
              "  <style>\n",
              "    .colab-df-container {\n",
              "      display:flex;\n",
              "      flex-wrap:wrap;\n",
              "      gap: 12px;\n",
              "    }\n",
              "\n",
              "    .colab-df-convert {\n",
              "      background-color: #E8F0FE;\n",
              "      border: none;\n",
              "      border-radius: 50%;\n",
              "      cursor: pointer;\n",
              "      display: none;\n",
              "      fill: #1967D2;\n",
              "      height: 32px;\n",
              "      padding: 0 0 0 0;\n",
              "      width: 32px;\n",
              "    }\n",
              "\n",
              "    .colab-df-convert:hover {\n",
              "      background-color: #E2EBFA;\n",
              "      box-shadow: 0px 1px 2px rgba(60, 64, 67, 0.3), 0px 1px 3px 1px rgba(60, 64, 67, 0.15);\n",
              "      fill: #174EA6;\n",
              "    }\n",
              "\n",
              "    [theme=dark] .colab-df-convert {\n",
              "      background-color: #3B4455;\n",
              "      fill: #D2E3FC;\n",
              "    }\n",
              "\n",
              "    [theme=dark] .colab-df-convert:hover {\n",
              "      background-color: #434B5C;\n",
              "      box-shadow: 0px 1px 3px 1px rgba(0, 0, 0, 0.15);\n",
              "      filter: drop-shadow(0px 1px 2px rgba(0, 0, 0, 0.3));\n",
              "      fill: #FFFFFF;\n",
              "    }\n",
              "  </style>\n",
              "\n",
              "      <script>\n",
              "        const buttonEl =\n",
              "          document.querySelector('#df-cfe1698e-929f-49d3-a620-78fe72c678e8 button.colab-df-convert');\n",
              "        buttonEl.style.display =\n",
              "          google.colab.kernel.accessAllowed ? 'block' : 'none';\n",
              "\n",
              "        async function convertToInteractive(key) {\n",
              "          const element = document.querySelector('#df-cfe1698e-929f-49d3-a620-78fe72c678e8');\n",
              "          const dataTable =\n",
              "            await google.colab.kernel.invokeFunction('convertToInteractive',\n",
              "                                                     [key], {});\n",
              "          if (!dataTable) return;\n",
              "\n",
              "          const docLinkHtml = 'Like what you see? Visit the ' +\n",
              "            '<a target=\"_blank\" href=https://colab.research.google.com/notebooks/data_table.ipynb>data table notebook</a>'\n",
              "            + ' to learn more about interactive tables.';\n",
              "          element.innerHTML = '';\n",
              "          dataTable['output_type'] = 'display_data';\n",
              "          await google.colab.output.renderOutput(dataTable, element);\n",
              "          const docLink = document.createElement('div');\n",
              "          docLink.innerHTML = docLinkHtml;\n",
              "          element.appendChild(docLink);\n",
              "        }\n",
              "      </script>\n",
              "    </div>\n",
              "  </div>\n",
              "  "
            ]
          },
          "metadata": {},
          "execution_count": 6
        }
      ]
    },
    {
      "cell_type": "code",
      "execution_count": null,
      "metadata": {
        "colab": {
          "base_uri": "https://localhost:8080/"
        },
        "id": "KdnBNTQbOg3o",
        "outputId": "6b348e59-df4a-40ec-9559-81aae80cdcce"
      },
      "outputs": [
        {
          "output_type": "stream",
          "name": "stdout",
          "text": [
            "(545, 12)\n"
          ]
        }
      ],
      "source": [
        "print(data.shape)"
      ]
    },
    {
      "cell_type": "code",
      "execution_count": null,
      "metadata": {
        "colab": {
          "base_uri": "https://localhost:8080/"
        },
        "id": "h6qOXJkpRv3r",
        "outputId": "e7635353-e63d-46f1-9d31-cb99f2cc60c2"
      },
      "outputs": [
        {
          "output_type": "execute_result",
          "data": {
            "text/plain": [
              "price                int64\n",
              "area                 int64\n",
              "bedrooms             int64\n",
              "bathrooms            int64\n",
              "stories              int64\n",
              "mainroad            object\n",
              "guestroom           object\n",
              "basement            object\n",
              "hotwaterheating     object\n",
              "airconditioning     object\n",
              "parking              int64\n",
              "furnishingstatus    object\n",
              "dtype: object"
            ]
          },
          "metadata": {},
          "execution_count": 8
        }
      ],
      "source": [
        "data.dtypes"
      ]
    },
    {
      "cell_type": "code",
      "execution_count": null,
      "metadata": {
        "colab": {
          "base_uri": "https://localhost:8080/"
        },
        "id": "35cmYbzPOpkg",
        "outputId": "675ba369-df8c-4759-a270-8d362da235cf"
      },
      "outputs": [
        {
          "output_type": "execute_result",
          "data": {
            "text/plain": [
              "price               0\n",
              "area                0\n",
              "bedrooms            0\n",
              "bathrooms           0\n",
              "stories             0\n",
              "mainroad            0\n",
              "guestroom           0\n",
              "basement            0\n",
              "hotwaterheating     0\n",
              "airconditioning     0\n",
              "parking             0\n",
              "furnishingstatus    0\n",
              "dtype: int64"
            ]
          },
          "metadata": {},
          "execution_count": 9
        }
      ],
      "source": [
        "data.isnull().sum()"
      ]
    },
    {
      "cell_type": "code",
      "execution_count": null,
      "metadata": {
        "colab": {
          "base_uri": "https://localhost:8080/",
          "height": 270
        },
        "id": "D2ktGy9WIaiI",
        "outputId": "11934ac5-4cbf-49b0-9758-6937e7e7cd33"
      },
      "outputs": [
        {
          "output_type": "execute_result",
          "data": {
            "text/plain": [
              "      price  area  bedrooms  bathrooms  stories mainroad guestroom basement  \\\n",
              "0  13300000  7420         4          2        3      yes        no       no   \n",
              "1  12250000  8960         4          4        4      yes        no       no   \n",
              "2  12250000  9960         3          2        2      yes        no      yes   \n",
              "3  12215000  7500         4          2        2      yes        no      yes   \n",
              "4  11410000  7420         4          1        2      yes       yes      yes   \n",
              "\n",
              "  hotwaterheating airconditioning  parking furnishingstatus  \n",
              "0              no             yes        2        furnished  \n",
              "1              no             yes        3        furnished  \n",
              "2              no              no        2   semi-furnished  \n",
              "3              no             yes        3        furnished  \n",
              "4              no             yes        2        furnished  "
            ],
            "text/html": [
              "\n",
              "  <div id=\"df-9c974014-5f9d-4613-acd4-ba091d69891d\">\n",
              "    <div class=\"colab-df-container\">\n",
              "      <div>\n",
              "<style scoped>\n",
              "    .dataframe tbody tr th:only-of-type {\n",
              "        vertical-align: middle;\n",
              "    }\n",
              "\n",
              "    .dataframe tbody tr th {\n",
              "        vertical-align: top;\n",
              "    }\n",
              "\n",
              "    .dataframe thead th {\n",
              "        text-align: right;\n",
              "    }\n",
              "</style>\n",
              "<table border=\"1\" class=\"dataframe\">\n",
              "  <thead>\n",
              "    <tr style=\"text-align: right;\">\n",
              "      <th></th>\n",
              "      <th>price</th>\n",
              "      <th>area</th>\n",
              "      <th>bedrooms</th>\n",
              "      <th>bathrooms</th>\n",
              "      <th>stories</th>\n",
              "      <th>mainroad</th>\n",
              "      <th>guestroom</th>\n",
              "      <th>basement</th>\n",
              "      <th>hotwaterheating</th>\n",
              "      <th>airconditioning</th>\n",
              "      <th>parking</th>\n",
              "      <th>furnishingstatus</th>\n",
              "    </tr>\n",
              "  </thead>\n",
              "  <tbody>\n",
              "    <tr>\n",
              "      <th>0</th>\n",
              "      <td>13300000</td>\n",
              "      <td>7420</td>\n",
              "      <td>4</td>\n",
              "      <td>2</td>\n",
              "      <td>3</td>\n",
              "      <td>yes</td>\n",
              "      <td>no</td>\n",
              "      <td>no</td>\n",
              "      <td>no</td>\n",
              "      <td>yes</td>\n",
              "      <td>2</td>\n",
              "      <td>furnished</td>\n",
              "    </tr>\n",
              "    <tr>\n",
              "      <th>1</th>\n",
              "      <td>12250000</td>\n",
              "      <td>8960</td>\n",
              "      <td>4</td>\n",
              "      <td>4</td>\n",
              "      <td>4</td>\n",
              "      <td>yes</td>\n",
              "      <td>no</td>\n",
              "      <td>no</td>\n",
              "      <td>no</td>\n",
              "      <td>yes</td>\n",
              "      <td>3</td>\n",
              "      <td>furnished</td>\n",
              "    </tr>\n",
              "    <tr>\n",
              "      <th>2</th>\n",
              "      <td>12250000</td>\n",
              "      <td>9960</td>\n",
              "      <td>3</td>\n",
              "      <td>2</td>\n",
              "      <td>2</td>\n",
              "      <td>yes</td>\n",
              "      <td>no</td>\n",
              "      <td>yes</td>\n",
              "      <td>no</td>\n",
              "      <td>no</td>\n",
              "      <td>2</td>\n",
              "      <td>semi-furnished</td>\n",
              "    </tr>\n",
              "    <tr>\n",
              "      <th>3</th>\n",
              "      <td>12215000</td>\n",
              "      <td>7500</td>\n",
              "      <td>4</td>\n",
              "      <td>2</td>\n",
              "      <td>2</td>\n",
              "      <td>yes</td>\n",
              "      <td>no</td>\n",
              "      <td>yes</td>\n",
              "      <td>no</td>\n",
              "      <td>yes</td>\n",
              "      <td>3</td>\n",
              "      <td>furnished</td>\n",
              "    </tr>\n",
              "    <tr>\n",
              "      <th>4</th>\n",
              "      <td>11410000</td>\n",
              "      <td>7420</td>\n",
              "      <td>4</td>\n",
              "      <td>1</td>\n",
              "      <td>2</td>\n",
              "      <td>yes</td>\n",
              "      <td>yes</td>\n",
              "      <td>yes</td>\n",
              "      <td>no</td>\n",
              "      <td>yes</td>\n",
              "      <td>2</td>\n",
              "      <td>furnished</td>\n",
              "    </tr>\n",
              "  </tbody>\n",
              "</table>\n",
              "</div>\n",
              "      <button class=\"colab-df-convert\" onclick=\"convertToInteractive('df-9c974014-5f9d-4613-acd4-ba091d69891d')\"\n",
              "              title=\"Convert this dataframe to an interactive table.\"\n",
              "              style=\"display:none;\">\n",
              "        \n",
              "  <svg xmlns=\"http://www.w3.org/2000/svg\" height=\"24px\"viewBox=\"0 0 24 24\"\n",
              "       width=\"24px\">\n",
              "    <path d=\"M0 0h24v24H0V0z\" fill=\"none\"/>\n",
              "    <path d=\"M18.56 5.44l.94 2.06.94-2.06 2.06-.94-2.06-.94-.94-2.06-.94 2.06-2.06.94zm-11 1L8.5 8.5l.94-2.06 2.06-.94-2.06-.94L8.5 2.5l-.94 2.06-2.06.94zm10 10l.94 2.06.94-2.06 2.06-.94-2.06-.94-.94-2.06-.94 2.06-2.06.94z\"/><path d=\"M17.41 7.96l-1.37-1.37c-.4-.4-.92-.59-1.43-.59-.52 0-1.04.2-1.43.59L10.3 9.45l-7.72 7.72c-.78.78-.78 2.05 0 2.83L4 21.41c.39.39.9.59 1.41.59.51 0 1.02-.2 1.41-.59l7.78-7.78 2.81-2.81c.8-.78.8-2.07 0-2.86zM5.41 20L4 18.59l7.72-7.72 1.47 1.35L5.41 20z\"/>\n",
              "  </svg>\n",
              "      </button>\n",
              "      \n",
              "  <style>\n",
              "    .colab-df-container {\n",
              "      display:flex;\n",
              "      flex-wrap:wrap;\n",
              "      gap: 12px;\n",
              "    }\n",
              "\n",
              "    .colab-df-convert {\n",
              "      background-color: #E8F0FE;\n",
              "      border: none;\n",
              "      border-radius: 50%;\n",
              "      cursor: pointer;\n",
              "      display: none;\n",
              "      fill: #1967D2;\n",
              "      height: 32px;\n",
              "      padding: 0 0 0 0;\n",
              "      width: 32px;\n",
              "    }\n",
              "\n",
              "    .colab-df-convert:hover {\n",
              "      background-color: #E2EBFA;\n",
              "      box-shadow: 0px 1px 2px rgba(60, 64, 67, 0.3), 0px 1px 3px 1px rgba(60, 64, 67, 0.15);\n",
              "      fill: #174EA6;\n",
              "    }\n",
              "\n",
              "    [theme=dark] .colab-df-convert {\n",
              "      background-color: #3B4455;\n",
              "      fill: #D2E3FC;\n",
              "    }\n",
              "\n",
              "    [theme=dark] .colab-df-convert:hover {\n",
              "      background-color: #434B5C;\n",
              "      box-shadow: 0px 1px 3px 1px rgba(0, 0, 0, 0.15);\n",
              "      filter: drop-shadow(0px 1px 2px rgba(0, 0, 0, 0.3));\n",
              "      fill: #FFFFFF;\n",
              "    }\n",
              "  </style>\n",
              "\n",
              "      <script>\n",
              "        const buttonEl =\n",
              "          document.querySelector('#df-9c974014-5f9d-4613-acd4-ba091d69891d button.colab-df-convert');\n",
              "        buttonEl.style.display =\n",
              "          google.colab.kernel.accessAllowed ? 'block' : 'none';\n",
              "\n",
              "        async function convertToInteractive(key) {\n",
              "          const element = document.querySelector('#df-9c974014-5f9d-4613-acd4-ba091d69891d');\n",
              "          const dataTable =\n",
              "            await google.colab.kernel.invokeFunction('convertToInteractive',\n",
              "                                                     [key], {});\n",
              "          if (!dataTable) return;\n",
              "\n",
              "          const docLinkHtml = 'Like what you see? Visit the ' +\n",
              "            '<a target=\"_blank\" href=https://colab.research.google.com/notebooks/data_table.ipynb>data table notebook</a>'\n",
              "            + ' to learn more about interactive tables.';\n",
              "          element.innerHTML = '';\n",
              "          dataTable['output_type'] = 'display_data';\n",
              "          await google.colab.output.renderOutput(dataTable, element);\n",
              "          const docLink = document.createElement('div');\n",
              "          docLink.innerHTML = docLinkHtml;\n",
              "          element.appendChild(docLink);\n",
              "        }\n",
              "      </script>\n",
              "    </div>\n",
              "  </div>\n",
              "  "
            ]
          },
          "metadata": {},
          "execution_count": 10
        }
      ],
      "source": [
        "data.head()"
      ]
    },
    {
      "cell_type": "code",
      "execution_count": null,
      "metadata": {
        "colab": {
          "base_uri": "https://localhost:8080/",
          "height": 270
        },
        "id": "d6Lg_nCKIeUA",
        "outputId": "204eb2b6-db77-440f-f464-8a32390d866c"
      },
      "outputs": [
        {
          "output_type": "execute_result",
          "data": {
            "text/plain": [
              "       price  area  bedrooms  bathrooms  stories mainroad guestroom basement  \\\n",
              "540  1820000  3000         2          1        1      yes        no      yes   \n",
              "541  1767150  2400         3          1        1       no        no       no   \n",
              "542  1750000  3620         2          1        1      yes        no       no   \n",
              "543  1750000  2910         3          1        1       no        no       no   \n",
              "544  1750000  3850         3          1        2      yes        no       no   \n",
              "\n",
              "    hotwaterheating airconditioning  parking furnishingstatus  \n",
              "540              no              no        2      unfurnished  \n",
              "541              no              no        0   semi-furnished  \n",
              "542              no              no        0      unfurnished  \n",
              "543              no              no        0        furnished  \n",
              "544              no              no        0      unfurnished  "
            ],
            "text/html": [
              "\n",
              "  <div id=\"df-712d5ecd-eb4f-40f3-b9fc-0ad8bc928e6e\">\n",
              "    <div class=\"colab-df-container\">\n",
              "      <div>\n",
              "<style scoped>\n",
              "    .dataframe tbody tr th:only-of-type {\n",
              "        vertical-align: middle;\n",
              "    }\n",
              "\n",
              "    .dataframe tbody tr th {\n",
              "        vertical-align: top;\n",
              "    }\n",
              "\n",
              "    .dataframe thead th {\n",
              "        text-align: right;\n",
              "    }\n",
              "</style>\n",
              "<table border=\"1\" class=\"dataframe\">\n",
              "  <thead>\n",
              "    <tr style=\"text-align: right;\">\n",
              "      <th></th>\n",
              "      <th>price</th>\n",
              "      <th>area</th>\n",
              "      <th>bedrooms</th>\n",
              "      <th>bathrooms</th>\n",
              "      <th>stories</th>\n",
              "      <th>mainroad</th>\n",
              "      <th>guestroom</th>\n",
              "      <th>basement</th>\n",
              "      <th>hotwaterheating</th>\n",
              "      <th>airconditioning</th>\n",
              "      <th>parking</th>\n",
              "      <th>furnishingstatus</th>\n",
              "    </tr>\n",
              "  </thead>\n",
              "  <tbody>\n",
              "    <tr>\n",
              "      <th>540</th>\n",
              "      <td>1820000</td>\n",
              "      <td>3000</td>\n",
              "      <td>2</td>\n",
              "      <td>1</td>\n",
              "      <td>1</td>\n",
              "      <td>yes</td>\n",
              "      <td>no</td>\n",
              "      <td>yes</td>\n",
              "      <td>no</td>\n",
              "      <td>no</td>\n",
              "      <td>2</td>\n",
              "      <td>unfurnished</td>\n",
              "    </tr>\n",
              "    <tr>\n",
              "      <th>541</th>\n",
              "      <td>1767150</td>\n",
              "      <td>2400</td>\n",
              "      <td>3</td>\n",
              "      <td>1</td>\n",
              "      <td>1</td>\n",
              "      <td>no</td>\n",
              "      <td>no</td>\n",
              "      <td>no</td>\n",
              "      <td>no</td>\n",
              "      <td>no</td>\n",
              "      <td>0</td>\n",
              "      <td>semi-furnished</td>\n",
              "    </tr>\n",
              "    <tr>\n",
              "      <th>542</th>\n",
              "      <td>1750000</td>\n",
              "      <td>3620</td>\n",
              "      <td>2</td>\n",
              "      <td>1</td>\n",
              "      <td>1</td>\n",
              "      <td>yes</td>\n",
              "      <td>no</td>\n",
              "      <td>no</td>\n",
              "      <td>no</td>\n",
              "      <td>no</td>\n",
              "      <td>0</td>\n",
              "      <td>unfurnished</td>\n",
              "    </tr>\n",
              "    <tr>\n",
              "      <th>543</th>\n",
              "      <td>1750000</td>\n",
              "      <td>2910</td>\n",
              "      <td>3</td>\n",
              "      <td>1</td>\n",
              "      <td>1</td>\n",
              "      <td>no</td>\n",
              "      <td>no</td>\n",
              "      <td>no</td>\n",
              "      <td>no</td>\n",
              "      <td>no</td>\n",
              "      <td>0</td>\n",
              "      <td>furnished</td>\n",
              "    </tr>\n",
              "    <tr>\n",
              "      <th>544</th>\n",
              "      <td>1750000</td>\n",
              "      <td>3850</td>\n",
              "      <td>3</td>\n",
              "      <td>1</td>\n",
              "      <td>2</td>\n",
              "      <td>yes</td>\n",
              "      <td>no</td>\n",
              "      <td>no</td>\n",
              "      <td>no</td>\n",
              "      <td>no</td>\n",
              "      <td>0</td>\n",
              "      <td>unfurnished</td>\n",
              "    </tr>\n",
              "  </tbody>\n",
              "</table>\n",
              "</div>\n",
              "      <button class=\"colab-df-convert\" onclick=\"convertToInteractive('df-712d5ecd-eb4f-40f3-b9fc-0ad8bc928e6e')\"\n",
              "              title=\"Convert this dataframe to an interactive table.\"\n",
              "              style=\"display:none;\">\n",
              "        \n",
              "  <svg xmlns=\"http://www.w3.org/2000/svg\" height=\"24px\"viewBox=\"0 0 24 24\"\n",
              "       width=\"24px\">\n",
              "    <path d=\"M0 0h24v24H0V0z\" fill=\"none\"/>\n",
              "    <path d=\"M18.56 5.44l.94 2.06.94-2.06 2.06-.94-2.06-.94-.94-2.06-.94 2.06-2.06.94zm-11 1L8.5 8.5l.94-2.06 2.06-.94-2.06-.94L8.5 2.5l-.94 2.06-2.06.94zm10 10l.94 2.06.94-2.06 2.06-.94-2.06-.94-.94-2.06-.94 2.06-2.06.94z\"/><path d=\"M17.41 7.96l-1.37-1.37c-.4-.4-.92-.59-1.43-.59-.52 0-1.04.2-1.43.59L10.3 9.45l-7.72 7.72c-.78.78-.78 2.05 0 2.83L4 21.41c.39.39.9.59 1.41.59.51 0 1.02-.2 1.41-.59l7.78-7.78 2.81-2.81c.8-.78.8-2.07 0-2.86zM5.41 20L4 18.59l7.72-7.72 1.47 1.35L5.41 20z\"/>\n",
              "  </svg>\n",
              "      </button>\n",
              "      \n",
              "  <style>\n",
              "    .colab-df-container {\n",
              "      display:flex;\n",
              "      flex-wrap:wrap;\n",
              "      gap: 12px;\n",
              "    }\n",
              "\n",
              "    .colab-df-convert {\n",
              "      background-color: #E8F0FE;\n",
              "      border: none;\n",
              "      border-radius: 50%;\n",
              "      cursor: pointer;\n",
              "      display: none;\n",
              "      fill: #1967D2;\n",
              "      height: 32px;\n",
              "      padding: 0 0 0 0;\n",
              "      width: 32px;\n",
              "    }\n",
              "\n",
              "    .colab-df-convert:hover {\n",
              "      background-color: #E2EBFA;\n",
              "      box-shadow: 0px 1px 2px rgba(60, 64, 67, 0.3), 0px 1px 3px 1px rgba(60, 64, 67, 0.15);\n",
              "      fill: #174EA6;\n",
              "    }\n",
              "\n",
              "    [theme=dark] .colab-df-convert {\n",
              "      background-color: #3B4455;\n",
              "      fill: #D2E3FC;\n",
              "    }\n",
              "\n",
              "    [theme=dark] .colab-df-convert:hover {\n",
              "      background-color: #434B5C;\n",
              "      box-shadow: 0px 1px 3px 1px rgba(0, 0, 0, 0.15);\n",
              "      filter: drop-shadow(0px 1px 2px rgba(0, 0, 0, 0.3));\n",
              "      fill: #FFFFFF;\n",
              "    }\n",
              "  </style>\n",
              "\n",
              "      <script>\n",
              "        const buttonEl =\n",
              "          document.querySelector('#df-712d5ecd-eb4f-40f3-b9fc-0ad8bc928e6e button.colab-df-convert');\n",
              "        buttonEl.style.display =\n",
              "          google.colab.kernel.accessAllowed ? 'block' : 'none';\n",
              "\n",
              "        async function convertToInteractive(key) {\n",
              "          const element = document.querySelector('#df-712d5ecd-eb4f-40f3-b9fc-0ad8bc928e6e');\n",
              "          const dataTable =\n",
              "            await google.colab.kernel.invokeFunction('convertToInteractive',\n",
              "                                                     [key], {});\n",
              "          if (!dataTable) return;\n",
              "\n",
              "          const docLinkHtml = 'Like what you see? Visit the ' +\n",
              "            '<a target=\"_blank\" href=https://colab.research.google.com/notebooks/data_table.ipynb>data table notebook</a>'\n",
              "            + ' to learn more about interactive tables.';\n",
              "          element.innerHTML = '';\n",
              "          dataTable['output_type'] = 'display_data';\n",
              "          await google.colab.output.renderOutput(dataTable, element);\n",
              "          const docLink = document.createElement('div');\n",
              "          docLink.innerHTML = docLinkHtml;\n",
              "          element.appendChild(docLink);\n",
              "        }\n",
              "      </script>\n",
              "    </div>\n",
              "  </div>\n",
              "  "
            ]
          },
          "metadata": {},
          "execution_count": 11
        }
      ],
      "source": [
        "data.tail()"
      ]
    },
    {
      "cell_type": "code",
      "execution_count": null,
      "metadata": {
        "colab": {
          "base_uri": "https://localhost:8080/",
          "height": 300
        },
        "id": "UzvCufUOIk8p",
        "outputId": "8e029ae9-ca08-47cb-ae27-2f3c29c67aac"
      },
      "outputs": [
        {
          "output_type": "execute_result",
          "data": {
            "text/plain": [
              "              price          area    bedrooms   bathrooms     stories  \\\n",
              "count  5.450000e+02    545.000000  545.000000  545.000000  545.000000   \n",
              "mean   4.766729e+06   5150.541284    2.965138    1.286239    1.805505   \n",
              "std    1.870440e+06   2170.141023    0.738064    0.502470    0.867492   \n",
              "min    1.750000e+06   1650.000000    1.000000    1.000000    1.000000   \n",
              "25%    3.430000e+06   3600.000000    2.000000    1.000000    1.000000   \n",
              "50%    4.340000e+06   4600.000000    3.000000    1.000000    2.000000   \n",
              "75%    5.740000e+06   6360.000000    3.000000    2.000000    2.000000   \n",
              "max    1.330000e+07  16200.000000    6.000000    4.000000    4.000000   \n",
              "\n",
              "          parking  \n",
              "count  545.000000  \n",
              "mean     0.693578  \n",
              "std      0.861586  \n",
              "min      0.000000  \n",
              "25%      0.000000  \n",
              "50%      0.000000  \n",
              "75%      1.000000  \n",
              "max      3.000000  "
            ],
            "text/html": [
              "\n",
              "  <div id=\"df-0e4720ba-81a3-4427-9f31-942945c820bd\">\n",
              "    <div class=\"colab-df-container\">\n",
              "      <div>\n",
              "<style scoped>\n",
              "    .dataframe tbody tr th:only-of-type {\n",
              "        vertical-align: middle;\n",
              "    }\n",
              "\n",
              "    .dataframe tbody tr th {\n",
              "        vertical-align: top;\n",
              "    }\n",
              "\n",
              "    .dataframe thead th {\n",
              "        text-align: right;\n",
              "    }\n",
              "</style>\n",
              "<table border=\"1\" class=\"dataframe\">\n",
              "  <thead>\n",
              "    <tr style=\"text-align: right;\">\n",
              "      <th></th>\n",
              "      <th>price</th>\n",
              "      <th>area</th>\n",
              "      <th>bedrooms</th>\n",
              "      <th>bathrooms</th>\n",
              "      <th>stories</th>\n",
              "      <th>parking</th>\n",
              "    </tr>\n",
              "  </thead>\n",
              "  <tbody>\n",
              "    <tr>\n",
              "      <th>count</th>\n",
              "      <td>5.450000e+02</td>\n",
              "      <td>545.000000</td>\n",
              "      <td>545.000000</td>\n",
              "      <td>545.000000</td>\n",
              "      <td>545.000000</td>\n",
              "      <td>545.000000</td>\n",
              "    </tr>\n",
              "    <tr>\n",
              "      <th>mean</th>\n",
              "      <td>4.766729e+06</td>\n",
              "      <td>5150.541284</td>\n",
              "      <td>2.965138</td>\n",
              "      <td>1.286239</td>\n",
              "      <td>1.805505</td>\n",
              "      <td>0.693578</td>\n",
              "    </tr>\n",
              "    <tr>\n",
              "      <th>std</th>\n",
              "      <td>1.870440e+06</td>\n",
              "      <td>2170.141023</td>\n",
              "      <td>0.738064</td>\n",
              "      <td>0.502470</td>\n",
              "      <td>0.867492</td>\n",
              "      <td>0.861586</td>\n",
              "    </tr>\n",
              "    <tr>\n",
              "      <th>min</th>\n",
              "      <td>1.750000e+06</td>\n",
              "      <td>1650.000000</td>\n",
              "      <td>1.000000</td>\n",
              "      <td>1.000000</td>\n",
              "      <td>1.000000</td>\n",
              "      <td>0.000000</td>\n",
              "    </tr>\n",
              "    <tr>\n",
              "      <th>25%</th>\n",
              "      <td>3.430000e+06</td>\n",
              "      <td>3600.000000</td>\n",
              "      <td>2.000000</td>\n",
              "      <td>1.000000</td>\n",
              "      <td>1.000000</td>\n",
              "      <td>0.000000</td>\n",
              "    </tr>\n",
              "    <tr>\n",
              "      <th>50%</th>\n",
              "      <td>4.340000e+06</td>\n",
              "      <td>4600.000000</td>\n",
              "      <td>3.000000</td>\n",
              "      <td>1.000000</td>\n",
              "      <td>2.000000</td>\n",
              "      <td>0.000000</td>\n",
              "    </tr>\n",
              "    <tr>\n",
              "      <th>75%</th>\n",
              "      <td>5.740000e+06</td>\n",
              "      <td>6360.000000</td>\n",
              "      <td>3.000000</td>\n",
              "      <td>2.000000</td>\n",
              "      <td>2.000000</td>\n",
              "      <td>1.000000</td>\n",
              "    </tr>\n",
              "    <tr>\n",
              "      <th>max</th>\n",
              "      <td>1.330000e+07</td>\n",
              "      <td>16200.000000</td>\n",
              "      <td>6.000000</td>\n",
              "      <td>4.000000</td>\n",
              "      <td>4.000000</td>\n",
              "      <td>3.000000</td>\n",
              "    </tr>\n",
              "  </tbody>\n",
              "</table>\n",
              "</div>\n",
              "      <button class=\"colab-df-convert\" onclick=\"convertToInteractive('df-0e4720ba-81a3-4427-9f31-942945c820bd')\"\n",
              "              title=\"Convert this dataframe to an interactive table.\"\n",
              "              style=\"display:none;\">\n",
              "        \n",
              "  <svg xmlns=\"http://www.w3.org/2000/svg\" height=\"24px\"viewBox=\"0 0 24 24\"\n",
              "       width=\"24px\">\n",
              "    <path d=\"M0 0h24v24H0V0z\" fill=\"none\"/>\n",
              "    <path d=\"M18.56 5.44l.94 2.06.94-2.06 2.06-.94-2.06-.94-.94-2.06-.94 2.06-2.06.94zm-11 1L8.5 8.5l.94-2.06 2.06-.94-2.06-.94L8.5 2.5l-.94 2.06-2.06.94zm10 10l.94 2.06.94-2.06 2.06-.94-2.06-.94-.94-2.06-.94 2.06-2.06.94z\"/><path d=\"M17.41 7.96l-1.37-1.37c-.4-.4-.92-.59-1.43-.59-.52 0-1.04.2-1.43.59L10.3 9.45l-7.72 7.72c-.78.78-.78 2.05 0 2.83L4 21.41c.39.39.9.59 1.41.59.51 0 1.02-.2 1.41-.59l7.78-7.78 2.81-2.81c.8-.78.8-2.07 0-2.86zM5.41 20L4 18.59l7.72-7.72 1.47 1.35L5.41 20z\"/>\n",
              "  </svg>\n",
              "      </button>\n",
              "      \n",
              "  <style>\n",
              "    .colab-df-container {\n",
              "      display:flex;\n",
              "      flex-wrap:wrap;\n",
              "      gap: 12px;\n",
              "    }\n",
              "\n",
              "    .colab-df-convert {\n",
              "      background-color: #E8F0FE;\n",
              "      border: none;\n",
              "      border-radius: 50%;\n",
              "      cursor: pointer;\n",
              "      display: none;\n",
              "      fill: #1967D2;\n",
              "      height: 32px;\n",
              "      padding: 0 0 0 0;\n",
              "      width: 32px;\n",
              "    }\n",
              "\n",
              "    .colab-df-convert:hover {\n",
              "      background-color: #E2EBFA;\n",
              "      box-shadow: 0px 1px 2px rgba(60, 64, 67, 0.3), 0px 1px 3px 1px rgba(60, 64, 67, 0.15);\n",
              "      fill: #174EA6;\n",
              "    }\n",
              "\n",
              "    [theme=dark] .colab-df-convert {\n",
              "      background-color: #3B4455;\n",
              "      fill: #D2E3FC;\n",
              "    }\n",
              "\n",
              "    [theme=dark] .colab-df-convert:hover {\n",
              "      background-color: #434B5C;\n",
              "      box-shadow: 0px 1px 3px 1px rgba(0, 0, 0, 0.15);\n",
              "      filter: drop-shadow(0px 1px 2px rgba(0, 0, 0, 0.3));\n",
              "      fill: #FFFFFF;\n",
              "    }\n",
              "  </style>\n",
              "\n",
              "      <script>\n",
              "        const buttonEl =\n",
              "          document.querySelector('#df-0e4720ba-81a3-4427-9f31-942945c820bd button.colab-df-convert');\n",
              "        buttonEl.style.display =\n",
              "          google.colab.kernel.accessAllowed ? 'block' : 'none';\n",
              "\n",
              "        async function convertToInteractive(key) {\n",
              "          const element = document.querySelector('#df-0e4720ba-81a3-4427-9f31-942945c820bd');\n",
              "          const dataTable =\n",
              "            await google.colab.kernel.invokeFunction('convertToInteractive',\n",
              "                                                     [key], {});\n",
              "          if (!dataTable) return;\n",
              "\n",
              "          const docLinkHtml = 'Like what you see? Visit the ' +\n",
              "            '<a target=\"_blank\" href=https://colab.research.google.com/notebooks/data_table.ipynb>data table notebook</a>'\n",
              "            + ' to learn more about interactive tables.';\n",
              "          element.innerHTML = '';\n",
              "          dataTable['output_type'] = 'display_data';\n",
              "          await google.colab.output.renderOutput(dataTable, element);\n",
              "          const docLink = document.createElement('div');\n",
              "          docLink.innerHTML = docLinkHtml;\n",
              "          element.appendChild(docLink);\n",
              "        }\n",
              "      </script>\n",
              "    </div>\n",
              "  </div>\n",
              "  "
            ]
          },
          "metadata": {},
          "execution_count": 12
        }
      ],
      "source": [
        "data.describe()"
      ]
    },
    {
      "cell_type": "markdown",
      "source": [
        "##3)Data Visualisations##"
      ],
      "metadata": {
        "id": "ui-kfmArAN31"
      }
    },
    {
      "cell_type": "markdown",
      "metadata": {
        "id": "LO-TOUrcIr2w"
      },
      "source": [
        "## a)Performing the Univariate Analysis##"
      ]
    },
    {
      "cell_type": "code",
      "execution_count": null,
      "metadata": {
        "colab": {
          "base_uri": "https://localhost:8080/",
          "height": 467
        },
        "id": "VMRjLY7fI0FH",
        "outputId": "e03ad24f-a511-44c4-99fe-be80416f862e"
      },
      "outputs": [
        {
          "output_type": "execute_result",
          "data": {
            "text/plain": [
              "<Axes: xlabel='price', ylabel='Count'>"
            ]
          },
          "metadata": {},
          "execution_count": 13
        },
        {
          "output_type": "display_data",
          "data": {
            "text/plain": [
              "<Figure size 640x480 with 1 Axes>"
            ],
            "image/png": "[encoded data removed]"
          },
          "metadata": {}
        }
      ],
      "source": [
        "#histogram\n",
        "sns.histplot(data['price'])"
      ]
    },
    {
      "cell_type": "code",
      "execution_count": null,
      "metadata": {
        "colab": {
          "base_uri": "https://localhost:8080/",
          "height": 445
        },
        "id": "bdBES1xMWxLC",
        "outputId": "0bca81dc-bb30-451e-cada-0caefd2ea067"
      },
      "outputs": [
        {
          "output_type": "display_data",
          "data": {
            "text/plain": [
              "<Figure size 640x480 with 1 Axes>"
            ],
            "image/png": "[encoded data removed]"
          },
          "metadata": {}
        }
      ],
      "source": [
        "#scatterplot\n",
        "plt.scatter(data.index,data['price'])\n",
        "plt.show()"
      ]
    },
    {
      "cell_type": "code",
      "execution_count": null,
      "metadata": {
        "colab": {
          "base_uri": "https://localhost:8080/",
          "height": 467
        },
        "id": "EdD4JAANXKyj",
        "outputId": "6dbce3d7-657f-42a6-f6a8-39e862938ee3"
      },
      "outputs": [
        {
          "output_type": "execute_result",
          "data": {
            "text/plain": [
              "<Axes: xlabel='price', ylabel='count'>"
            ]
          },
          "metadata": {},
          "execution_count": 15
        },
        {
          "output_type": "display_data",
          "data": {
            "text/plain": [
              "<Figure size 640x480 with 1 Axes>"
            ],
            "image/png": "[encoded data removed]"
          },
          "metadata": {}
        }
      ],
      "source": [
        "sns.countplot(x=data['price'])"
      ]
    },
    {
      "cell_type": "code",
      "execution_count": null,
      "metadata": {
        "colab": {
          "base_uri": "https://localhost:8080/",
          "height": 406
        },
        "id": "__1X8T52ZUIc",
        "outputId": "5fed3f22-1f40-47cf-f136-47d80b03adbc"
      },
      "outputs": [
        {
          "output_type": "display_data",
          "data": {
            "text/plain": [
              "<Figure size 640x480 with 1 Axes>"
            ],
            "image/png": "[encoded data removed]"
          },
          "metadata": {}
        }
      ],
      "source": [
        "x=data['bedrooms'].value_counts()\n",
        "plt.pie(x.values,\n",
        "        labels=x.index,\n",
        "        autopct='%1.1f%%')\n",
        "plt.show()"
      ]
    },
    {
      "cell_type": "markdown",
      "metadata": {
        "id": "lVeknIFsctrY"
      },
      "source": [
        "##b)Bivarient Analysis##"
      ]
    },
    {
      "cell_type": "code",
      "execution_count": null,
      "metadata": {
        "colab": {
          "base_uri": "https://localhost:8080/",
          "height": 467
        },
        "id": "bbKHaL0Ecz4A",
        "outputId": "85da70e1-fda0-42a7-a0a6-c8dff69729a7"
      },
      "outputs": [
        {
          "output_type": "execute_result",
          "data": {
            "text/plain": [
              "<Axes: xlabel='bedrooms', ylabel='bathrooms'>"
            ]
          },
          "metadata": {},
          "execution_count": 17
        },
        {
          "output_type": "display_data",
          "data": {
            "text/plain": [
              "<Figure size 640x480 with 1 Axes>"
            ],
            "image/png": "[encoded data removed]"
          },
          "metadata": {}
        }
      ],
      "source": [
        "sns.scatterplot(x=data['bedrooms'],\n",
        "                y=data['bathrooms'])"
      ]
    },
    {
      "cell_type": "code",
      "execution_count": null,
      "metadata": {
        "colab": {
          "base_uri": "https://localhost:8080/",
          "height": 333
        },
        "id": "LB4O7OVFdAHv",
        "outputId": "7af6ee07-cf8e-4674-f490-76ec082c3f13"
      },
      "outputs": [
        {
          "output_type": "execute_result",
          "data": {
            "text/plain": [
              "<Axes: xlabel='bedrooms', ylabel='bathrooms'>"
            ]
          },
          "metadata": {},
          "execution_count": 18
        },
        {
          "output_type": "display_data",
          "data": {
            "text/plain": [
              "<Figure size 1500x500 with 1 Axes>"
            ],
            "image/png": "[encoded data removed]"
          },
          "metadata": {}
        }
      ],
      "source": [
        "plt.figure(figsize=(15, 5))\n",
        "sns.barplot(x=data['bedrooms'], y=data['bathrooms'])\n"
      ]
    },
    {
      "cell_type": "code",
      "execution_count": null,
      "metadata": {
        "colab": {
          "base_uri": "https://localhost:8080/",
          "height": 467
        },
        "id": "Kfp9xWtHdzRr",
        "outputId": "912cff4e-ae9b-4e37-b5e5-ab0049c81045"
      },
      "outputs": [
        {
          "output_type": "execute_result",
          "data": {
            "text/plain": [
              "<Axes: xlabel='bedrooms', ylabel='count'>"
            ]
          },
          "metadata": {},
          "execution_count": 19
        },
        {
          "output_type": "display_data",
          "data": {
            "text/plain": [
              "<Figure size 640x480 with 1 Axes>"
            ],
            "image/png": "[encoded data removed]"
          },
          "metadata": {}
        }
      ],
      "source": [
        "sns.countplot(x=data['bedrooms'],hue=data['bathrooms'])"
      ]
    },
    {
      "cell_type": "markdown",
      "metadata": {
        "id": "x6BWChYlgILS"
      },
      "source": [
        "##c)Multivarient Analysis##"
      ]
    },
    {
      "cell_type": "code",
      "execution_count": null,
      "metadata": {
        "colab": {
          "base_uri": "https://localhost:8080/",
          "height": 978
        },
        "id": "1WaaMIPGgOPf",
        "outputId": "87870ce2-94db-4728-d5c2-f08ddb2cda21"
      },
      "outputs": [
        {
          "output_type": "stream",
          "name": "stderr",
          "text": [
            "<ipython-input-20-a7d2a1a5130f>:2: FutureWarning: The default value of numeric_only in DataFrame.corr is deprecated. In a future version, it will default to False. Select only valid columns or specify the value of numeric_only to silence this warning.\n",
            "  sns.heatmap(data.corr(), annot=True)\n"
          ]
        },
        {
          "output_type": "execute_result",
          "data": {
            "text/plain": [
              "<Axes: >"
            ]
          },
          "metadata": {},
          "execution_count": 20
        },
        {
          "output_type": "display_data",
          "data": {
            "text/plain": [
              "<Figure size 2000x2000 with 2 Axes>"
            ],
            "image/png": "[encoded data removed]"
          },
          "metadata": {}
        }
      ],
      "source": [
        "plt.figure(figsize=(20,20))\n",
        "sns.heatmap(data.corr(), annot=True)"
      ]
    },
    {
      "cell_type": "code",
      "execution_count": null,
      "metadata": {
        "colab": {
          "base_uri": "https://localhost:8080/",
          "height": 776
        },
        "id": "X69N6FagjmI8",
        "outputId": "5ae39854-4b04-4cbb-b893-a4450f62fd92"
      },
      "outputs": [
        {
          "output_type": "execute_result",
          "data": {
            "text/plain": [
              "<seaborn.axisgrid.PairGrid at 0x7efdd4adae30>"
            ]
          },
          "metadata": {},
          "execution_count": 21
        },
        {
          "output_type": "display_data",
          "data": {
            "text/plain": [
              "<Figure size 750x750 with 12 Axes>"
            ],
            "image/png": "[encoded data removed]"
          },
          "metadata": {}
        }
      ],
      "source": [
        " sns.pairplot(data[['price','bedrooms','bathrooms']])"
      ]
    },
    {
      "cell_type": "markdown",
      "source": [
        "## 4) Descriptive statistics"
      ],
      "metadata": {
        "id": "Y5GN1TKUtvvj"
      }
    },
    {
      "cell_type": "code",
      "source": [
        "data.describe()"
      ],
      "metadata": {
        "id": "T8YgmFutt534",
        "colab": {
          "base_uri": "https://localhost:8080/",
          "height": 300
        },
        "outputId": "33e1462e-8d05-4016-a7be-63bf24552b4a"
      },
      "execution_count": null,
      "outputs": [
        {
          "output_type": "execute_result",
          "data": {
            "text/plain": [
              "              price          area    bedrooms   bathrooms     stories  \\\n",
              "count  5.450000e+02    545.000000  545.000000  545.000000  545.000000   \n",
              "mean   4.766729e+06   5150.541284    2.965138    1.286239    1.805505   \n",
              "std    1.870440e+06   2170.141023    0.738064    0.502470    0.867492   \n",
              "min    1.750000e+06   1650.000000    1.000000    1.000000    1.000000   \n",
              "25%    3.430000e+06   3600.000000    2.000000    1.000000    1.000000   \n",
              "50%    4.340000e+06   4600.000000    3.000000    1.000000    2.000000   \n",
              "75%    5.740000e+06   6360.000000    3.000000    2.000000    2.000000   \n",
              "max    1.330000e+07  16200.000000    6.000000    4.000000    4.000000   \n",
              "\n",
              "          parking  \n",
              "count  545.000000  \n",
              "mean     0.693578  \n",
              "std      0.861586  \n",
              "min      0.000000  \n",
              "25%      0.000000  \n",
              "50%      0.000000  \n",
              "75%      1.000000  \n",
              "max      3.000000  "
            ],
            "text/html": [
              "\n",
              "  <div id=\"df-22f32cf8-7c14-4db1-8021-e06776a74817\">\n",
              "    <div class=\"colab-df-container\">\n",
              "      <div>\n",
              "<style scoped>\n",
              "    .dataframe tbody tr th:only-of-type {\n",
              "        vertical-align: middle;\n",
              "    }\n",
              "\n",
              "    .dataframe tbody tr th {\n",
              "        vertical-align: top;\n",
              "    }\n",
              "\n",
              "    .dataframe thead th {\n",
              "        text-align: right;\n",
              "    }\n",
              "</style>\n",
              "<table border=\"1\" class=\"dataframe\">\n",
              "  <thead>\n",
              "    <tr style=\"text-align: right;\">\n",
              "      <th></th>\n",
              "      <th>price</th>\n",
              "      <th>area</th>\n",
              "      <th>bedrooms</th>\n",
              "      <th>bathrooms</th>\n",
              "      <th>stories</th>\n",
              "      <th>parking</th>\n",
              "    </tr>\n",
              "  </thead>\n",
              "  <tbody>\n",
              "    <tr>\n",
              "      <th>count</th>\n",
              "      <td>5.450000e+02</td>\n",
              "      <td>545.000000</td>\n",
              "      <td>545.000000</td>\n",
              "      <td>545.000000</td>\n",
              "      <td>545.000000</td>\n",
              "      <td>545.000000</td>\n",
              "    </tr>\n",
              "    <tr>\n",
              "      <th>mean</th>\n",
              "      <td>4.766729e+06</td>\n",
              "      <td>5150.541284</td>\n",
              "      <td>2.965138</td>\n",
              "      <td>1.286239</td>\n",
              "      <td>1.805505</td>\n",
              "      <td>0.693578</td>\n",
              "    </tr>\n",
              "    <tr>\n",
              "      <th>std</th>\n",
              "      <td>1.870440e+06</td>\n",
              "      <td>2170.141023</td>\n",
              "      <td>0.738064</td>\n",
              "      <td>0.502470</td>\n",
              "      <td>0.867492</td>\n",
              "      <td>0.861586</td>\n",
              "    </tr>\n",
              "    <tr>\n",
              "      <th>min</th>\n",
              "      <td>1.750000e+06</td>\n",
              "      <td>1650.000000</td>\n",
              "      <td>1.000000</td>\n",
              "      <td>1.000000</td>\n",
              "      <td>1.000000</td>\n",
              "      <td>0.000000</td>\n",
              "    </tr>\n",
              "    <tr>\n",
              "      <th>25%</th>\n",
              "      <td>3.430000e+06</td>\n",
              "      <td>3600.000000</td>\n",
              "      <td>2.000000</td>\n",
              "      <td>1.000000</td>\n",
              "      <td>1.000000</td>\n",
              "      <td>0.000000</td>\n",
              "    </tr>\n",
              "    <tr>\n",
              "      <th>50%</th>\n",
              "      <td>4.340000e+06</td>\n",
              "      <td>4600.000000</td>\n",
              "      <td>3.000000</td>\n",
              "      <td>1.000000</td>\n",
              "      <td>2.000000</td>\n",
              "      <td>0.000000</td>\n",
              "    </tr>\n",
              "    <tr>\n",
              "      <th>75%</th>\n",
              "      <td>5.740000e+06</td>\n",
              "      <td>6360.000000</td>\n",
              "      <td>3.000000</td>\n",
              "      <td>2.000000</td>\n",
              "      <td>2.000000</td>\n",
              "      <td>1.000000</td>\n",
              "    </tr>\n",
              "    <tr>\n",
              "      <th>max</th>\n",
              "      <td>1.330000e+07</td>\n",
              "      <td>16200.000000</td>\n",
              "      <td>6.000000</td>\n",
              "      <td>4.000000</td>\n",
              "      <td>4.000000</td>\n",
              "      <td>3.000000</td>\n",
              "    </tr>\n",
              "  </tbody>\n",
              "</table>\n",
              "</div>\n",
              "      <button class=\"colab-df-convert\" onclick=\"convertToInteractive('df-22f32cf8-7c14-4db1-8021-e06776a74817')\"\n",
              "              title=\"Convert this dataframe to an interactive table.\"\n",
              "              style=\"display:none;\">\n",
              "        \n",
              "  <svg xmlns=\"http://www.w3.org/2000/svg\" height=\"24px\"viewBox=\"0 0 24 24\"\n",
              "       width=\"24px\">\n",
              "    <path d=\"M0 0h24v24H0V0z\" fill=\"none\"/>\n",
              "    <path d=\"M18.56 5.44l.94 2.06.94-2.06 2.06-.94-2.06-.94-.94-2.06-.94 2.06-2.06.94zm-11 1L8.5 8.5l.94-2.06 2.06-.94-2.06-.94L8.5 2.5l-.94 2.06-2.06.94zm10 10l.94 2.06.94-2.06 2.06-.94-2.06-.94-.94-2.06-.94 2.06-2.06.94z\"/><path d=\"M17.41 7.96l-1.37-1.37c-.4-.4-.92-.59-1.43-.59-.52 0-1.04.2-1.43.59L10.3 9.45l-7.72 7.72c-.78.78-.78 2.05 0 2.83L4 21.41c.39.39.9.59 1.41.59.51 0 1.02-.2 1.41-.59l7.78-7.78 2.81-2.81c.8-.78.8-2.07 0-2.86zM5.41 20L4 18.59l7.72-7.72 1.47 1.35L5.41 20z\"/>\n",
              "  </svg>\n",
              "      </button>\n",
              "      \n",
              "  <style>\n",
              "    .colab-df-container {\n",
              "      display:flex;\n",
              "      flex-wrap:wrap;\n",
              "      gap: 12px;\n",
              "    }\n",
              "\n",
              "    .colab-df-convert {\n",
              "      background-color: #E8F0FE;\n",
              "      border: none;\n",
              "      border-radius: 50%;\n",
              "      cursor: pointer;\n",
              "      display: none;\n",
              "      fill: #1967D2;\n",
              "      height: 32px;\n",
              "      padding: 0 0 0 0;\n",
              "      width: 32px;\n",
              "    }\n",
              "\n",
              "    .colab-df-convert:hover {\n",
              "      background-color: #E2EBFA;\n",
              "      box-shadow: 0px 1px 2px rgba(60, 64, 67, 0.3), 0px 1px 3px 1px rgba(60, 64, 67, 0.15);\n",
              "      fill: #174EA6;\n",
              "    }\n",
              "\n",
              "    [theme=dark] .colab-df-convert {\n",
              "      background-color: #3B4455;\n",
              "      fill: #D2E3FC;\n",
              "    }\n",
              "\n",
              "    [theme=dark] .colab-df-convert:hover {\n",
              "      background-color: #434B5C;\n",
              "      box-shadow: 0px 1px 3px 1px rgba(0, 0, 0, 0.15);\n",
              "      filter: drop-shadow(0px 1px 2px rgba(0, 0, 0, 0.3));\n",
              "      fill: #FFFFFF;\n",
              "    }\n",
              "  </style>\n",
              "\n",
              "      <script>\n",
              "        const buttonEl =\n",
              "          document.querySelector('#df-22f32cf8-7c14-4db1-8021-e06776a74817 button.colab-df-convert');\n",
              "        buttonEl.style.display =\n",
              "          google.colab.kernel.accessAllowed ? 'block' : 'none';\n",
              "\n",
              "        async function convertToInteractive(key) {\n",
              "          const element = document.querySelector('#df-22f32cf8-7c14-4db1-8021-e06776a74817');\n",
              "          const dataTable =\n",
              "            await google.colab.kernel.invokeFunction('convertToInteractive',\n",
              "                                                     [key], {});\n",
              "          if (!dataTable) return;\n",
              "\n",
              "          const docLinkHtml = 'Like what you see? Visit the ' +\n",
              "            '<a target=\"_blank\" href=https://colab.research.google.com/notebooks/data_table.ipynb>data table notebook</a>'\n",
              "            + ' to learn more about interactive tables.';\n",
              "          element.innerHTML = '';\n",
              "          dataTable['output_type'] = 'display_data';\n",
              "          await google.colab.output.renderOutput(dataTable, element);\n",
              "          const docLink = document.createElement('div');\n",
              "          docLink.innerHTML = docLinkHtml;\n",
              "          element.appendChild(docLink);\n",
              "        }\n",
              "      </script>\n",
              "    </div>\n",
              "  </div>\n",
              "  "
            ]
          },
          "metadata": {},
          "execution_count": 22
        }
      ]
    },
    {
      "cell_type": "code",
      "source": [
        "data.mean()"
      ],
      "metadata": {
        "id": "sroAET53t-FN",
        "colab": {
          "base_uri": "https://localhost:8080/"
        },
        "outputId": "a3452caf-e576-4c4f-afea-b85613ca1c2f"
      },
      "execution_count": null,
      "outputs": [
        {
          "output_type": "stream",
          "name": "stderr",
          "text": [
            "<ipython-input-23-abc01cf6c622>:1: FutureWarning: The default value of numeric_only in DataFrame.mean is deprecated. In a future version, it will default to False. In addition, specifying 'numeric_only=None' is deprecated. Select only valid columns or specify the value of numeric_only to silence this warning.\n",
            "  data.mean()\n"
          ]
        },
        {
          "output_type": "execute_result",
          "data": {
            "text/plain": [
              "price        4.766729e+06\n",
              "area         5.150541e+03\n",
              "bedrooms     2.965138e+00\n",
              "bathrooms    1.286239e+00\n",
              "stories      1.805505e+00\n",
              "parking      6.935780e-01\n",
              "dtype: float64"
            ]
          },
          "metadata": {},
          "execution_count": 23
        }
      ]
    },
    {
      "cell_type": "code",
      "source": [
        "data.std()"
      ],
      "metadata": {
        "id": "EcK0JEQZuCe8",
        "colab": {
          "base_uri": "https://localhost:8080/"
        },
        "outputId": "aedea442-11ce-4fcd-c860-15f1b9191b55"
      },
      "execution_count": null,
      "outputs": [
        {
          "output_type": "stream",
          "name": "stderr",
          "text": [
            "<ipython-input-24-a47ac8255c06>:1: FutureWarning: The default value of numeric_only in DataFrame.std is deprecated. In a future version, it will default to False. In addition, specifying 'numeric_only=None' is deprecated. Select only valid columns or specify the value of numeric_only to silence this warning.\n",
            "  data.std()\n"
          ]
        },
        {
          "output_type": "execute_result",
          "data": {
            "text/plain": [
              "price        1.870440e+06\n",
              "area         2.170141e+03\n",
              "bedrooms     7.380639e-01\n",
              "bathrooms    5.024696e-01\n",
              "stories      8.674925e-01\n",
              "parking      8.615858e-01\n",
              "dtype: float64"
            ]
          },
          "metadata": {},
          "execution_count": 24
        }
      ]
    },
    {
      "cell_type": "code",
      "source": [
        "data.cumsum()#cumulativesum"
      ],
      "metadata": {
        "id": "r1qmKaBKuL7b",
        "colab": {
          "base_uri": "https://localhost:8080/",
          "height": 626
        },
        "outputId": "5c883aec-e237-4e52-96c7-bcf45957b090"
      },
      "execution_count": null,
      "outputs": [
        {
          "output_type": "execute_result",
          "data": {
            "text/plain": [
              "          price     area  bedrooms  bathrooms  stories  \\\n",
              "0      13300000     7420         4          2        3   \n",
              "1      25550000    16380         8          6        7   \n",
              "2      37800000    26340        11          8        9   \n",
              "3      50015000    33840        15         10       11   \n",
              "4      61425000    41260        19         11       13   \n",
              "..          ...      ...       ...        ...      ...   \n",
              "540  2590850290  2794265      1605        697      979   \n",
              "541  2592617440  2796665      1608        698      980   \n",
              "542  2594367440  2800285      1610        699      981   \n",
              "543  2596117440  2803195      1613        700      982   \n",
              "544  2597867440  2807045      1616        701      984   \n",
              "\n",
              "                                              mainroad  \\\n",
              "0                                                  yes   \n",
              "1                                               yesyes   \n",
              "2                                            yesyesyes   \n",
              "3                                         yesyesyesyes   \n",
              "4                                      yesyesyesyesyes   \n",
              "..                                                 ...   \n",
              "540  yesyesyesyesyesyesyesyesyesyesyesyesyesyesyesy...   \n",
              "541  yesyesyesyesyesyesyesyesyesyesyesyesyesyesyesy...   \n",
              "542  yesyesyesyesyesyesyesyesyesyesyesyesyesyesyesy...   \n",
              "543  yesyesyesyesyesyesyesyesyesyesyesyesyesyesyesy...   \n",
              "544  yesyesyesyesyesyesyesyesyesyesyesyesyesyesyesy...   \n",
              "\n",
              "                                             guestroom  \\\n",
              "0                                                   no   \n",
              "1                                                 nono   \n",
              "2                                               nonono   \n",
              "3                                             nononono   \n",
              "4                                          nonononoyes   \n",
              "..                                                 ...   \n",
              "540  nonononoyesnononoyesyesnoyesnonononoyesnoyesno...   \n",
              "541  nonononoyesnononoyesyesnoyesnonononoyesnoyesno...   \n",
              "542  nonononoyesnononoyesyesnoyesnonononoyesnoyesno...   \n",
              "543  nonononoyesnononoyesyesnoyesnonononoyesnoyesno...   \n",
              "544  nonononoyesnononoyesyesnoyesnonononoyesnoyesno...   \n",
              "\n",
              "                                              basement  \\\n",
              "0                                                   no   \n",
              "1                                                 nono   \n",
              "2                                              nonoyes   \n",
              "3                                           nonoyesyes   \n",
              "4                                        nonoyesyesyes   \n",
              "..                                                 ...   \n",
              "540  nonoyesyesyesyesnonoyesnoyesyesnononoyesyesnon...   \n",
              "541  nonoyesyesyesyesnonoyesnoyesyesnononoyesyesnon...   \n",
              "542  nonoyesyesyesyesnonoyesnoyesyesnononoyesyesnon...   \n",
              "543  nonoyesyesyesyesnonoyesnoyesyesnononoyesyesnon...   \n",
              "544  nonoyesyesyesyesnonoyesnoyesyesnononoyesyesnon...   \n",
              "\n",
              "                                       hotwaterheating  \\\n",
              "0                                                   no   \n",
              "1                                                 nono   \n",
              "2                                               nonono   \n",
              "3                                             nononono   \n",
              "4                                           nonononono   \n",
              "..                                                 ...   \n",
              "540  nononononononononononoyesnoyesnonononononoyesn...   \n",
              "541  nononononononononononoyesnoyesnonononononoyesn...   \n",
              "542  nononononononononononoyesnoyesnonononononoyesn...   \n",
              "543  nononononononononononoyesnoyesnonononononoyesn...   \n",
              "544  nononononononononononoyesnoyesnonononononoyesn...   \n",
              "\n",
              "                                       airconditioning  parking  \\\n",
              "0                                                  yes        2   \n",
              "1                                               yesyes        5   \n",
              "2                                             yesyesno        7   \n",
              "3                                          yesyesnoyes       10   \n",
              "4                                       yesyesnoyesyes       12   \n",
              "..                                                 ...      ...   \n",
              "540  yesyesnoyesyesyesyesnoyesyesyesnoyesnononoyesy...      378   \n",
              "541  yesyesnoyesyesyesyesnoyesyesyesnoyesnononoyesy...      378   \n",
              "542  yesyesnoyesyesyesyesnoyesyesyesnoyesnononoyesy...      378   \n",
              "543  yesyesnoyesyesyesyesnoyesyesyesnoyesnononoyesy...      378   \n",
              "544  yesyesnoyesyesyesyesnoyesyesyesnoyesnononoyesy...      378   \n",
              "\n",
              "                                      furnishingstatus  \n",
              "0                                            furnished  \n",
              "1                                   furnishedfurnished  \n",
              "2                     furnishedfurnishedsemi-furnished  \n",
              "3            furnishedfurnishedsemi-furnishedfurnished  \n",
              "4    furnishedfurnishedsemi-furnishedfurnishedfurni...  \n",
              "..                                                 ...  \n",
              "540  furnishedfurnishedsemi-furnishedfurnishedfurni...  \n",
              "541  furnishedfurnishedsemi-furnishedfurnishedfurni...  \n",
              "542  furnishedfurnishedsemi-furnishedfurnishedfurni...  \n",
              "543  furnishedfurnishedsemi-furnishedfurnishedfurni...  \n",
              "544  furnishedfurnishedsemi-furnishedfurnishedfurni...  \n",
              "\n",
              "[545 rows x 12 columns]"
            ],
            "text/html": [
              "\n",
              "  <div id=\"df-9183cd01-1f1b-44ee-be1c-96763744eaa0\">\n",
              "    <div class=\"colab-df-container\">\n",
              "      <div>\n",
              "<style scoped>\n",
              "    .dataframe tbody tr th:only-of-type {\n",
              "        vertical-align: middle;\n",
              "    }\n",
              "\n",
              "    .dataframe tbody tr th {\n",
              "        vertical-align: top;\n",
              "    }\n",
              "\n",
              "    .dataframe thead th {\n",
              "        text-align: right;\n",
              "    }\n",
              "</style>\n",
              "<table border=\"1\" class=\"dataframe\">\n",
              "  <thead>\n",
              "    <tr style=\"text-align: right;\">\n",
              "      <th></th>\n",
              "      <th>price</th>\n",
              "      <th>area</th>\n",
              "      <th>bedrooms</th>\n",
              "      <th>bathrooms</th>\n",
              "      <th>stories</th>\n",
              "      <th>mainroad</th>\n",
              "      <th>guestroom</th>\n",
              "      <th>basement</th>\n",
              "      <th>hotwaterheating</th>\n",
              "      <th>airconditioning</th>\n",
              "      <th>parking</th>\n",
              "      <th>furnishingstatus</th>\n",
              "    </tr>\n",
              "  </thead>\n",
              "  <tbody>\n",
              "    <tr>\n",
              "      <th>0</th>\n",
              "      <td>13300000</td>\n",
              "      <td>7420</td>\n",
              "      <td>4</td>\n",
              "      <td>2</td>\n",
              "      <td>3</td>\n",
              "      <td>yes</td>\n",
              "      <td>no</td>\n",
              "      <td>no</td>\n",
              "      <td>no</td>\n",
              "      <td>yes</td>\n",
              "      <td>2</td>\n",
              "      <td>furnished</td>\n",
              "    </tr>\n",
              "    <tr>\n",
              "      <th>1</th>\n",
              "      <td>25550000</td>\n",
              "      <td>16380</td>\n",
              "      <td>8</td>\n",
              "      <td>6</td>\n",
              "      <td>7</td>\n",
              "      <td>yesyes</td>\n",
              "      <td>nono</td>\n",
              "      <td>nono</td>\n",
              "      <td>nono</td>\n",
              "      <td>yesyes</td>\n",
              "      <td>5</td>\n",
              "      <td>furnishedfurnished</td>\n",
              "    </tr>\n",
              "    <tr>\n",
              "      <th>2</th>\n",
              "      <td>37800000</td>\n",
              "      <td>26340</td>\n",
              "      <td>11</td>\n",
              "      <td>8</td>\n",
              "      <td>9</td>\n",
              "      <td>yesyesyes</td>\n",
              "      <td>nonono</td>\n",
              "      <td>nonoyes</td>\n",
              "      <td>nonono</td>\n",
              "      <td>yesyesno</td>\n",
              "      <td>7</td>\n",
              "      <td>furnishedfurnishedsemi-furnished</td>\n",
              "    </tr>\n",
              "    <tr>\n",
              "      <th>3</th>\n",
              "      <td>50015000</td>\n",
              "      <td>33840</td>\n",
              "      <td>15</td>\n",
              "      <td>10</td>\n",
              "      <td>11</td>\n",
              "      <td>yesyesyesyes</td>\n",
              "      <td>nononono</td>\n",
              "      <td>nonoyesyes</td>\n",
              "      <td>nononono</td>\n",
              "      <td>yesyesnoyes</td>\n",
              "      <td>10</td>\n",
              "      <td>furnishedfurnishedsemi-furnishedfurnished</td>\n",
              "    </tr>\n",
              "    <tr>\n",
              "      <th>4</th>\n",
              "      <td>61425000</td>\n",
              "      <td>41260</td>\n",
              "      <td>19</td>\n",
              "      <td>11</td>\n",
              "      <td>13</td>\n",
              "      <td>yesyesyesyesyes</td>\n",
              "      <td>nonononoyes</td>\n",
              "      <td>nonoyesyesyes</td>\n",
              "      <td>nonononono</td>\n",
              "      <td>yesyesnoyesyes</td>\n",
              "      <td>12</td>\n",
              "      <td>furnishedfurnishedsemi-furnishedfurnishedfurni...</td>\n",
              "    </tr>\n",
              "    <tr>\n",
              "      <th>...</th>\n",
              "      <td>...</td>\n",
              "      <td>...</td>\n",
              "      <td>...</td>\n",
              "      <td>...</td>\n",
              "      <td>...</td>\n",
              "      <td>...</td>\n",
              "      <td>...</td>\n",
              "      <td>...</td>\n",
              "      <td>...</td>\n",
              "      <td>...</td>\n",
              "      <td>...</td>\n",
              "      <td>...</td>\n",
              "    </tr>\n",
              "    <tr>\n",
              "      <th>540</th>\n",
              "      <td>2590850290</td>\n",
              "      <td>2794265</td>\n",
              "      <td>1605</td>\n",
              "      <td>697</td>\n",
              "      <td>979</td>\n",
              "      <td>yesyesyesyesyesyesyesyesyesyesyesyesyesyesyesy...</td>\n",
              "      <td>nonononoyesnononoyesyesnoyesnonononoyesnoyesno...</td>\n",
              "      <td>nonoyesyesyesyesnonoyesnoyesyesnononoyesyesnon...</td>\n",
              "      <td>nononononononononononoyesnoyesnonononononoyesn...</td>\n",
              "      <td>yesyesnoyesyesyesyesnoyesyesyesnoyesnononoyesy...</td>\n",
              "      <td>378</td>\n",
              "      <td>furnishedfurnishedsemi-furnishedfurnishedfurni...</td>\n",
              "    </tr>\n",
              "    <tr>\n",
              "      <th>541</th>\n",
              "      <td>2592617440</td>\n",
              "      <td>2796665</td>\n",
              "      <td>1608</td>\n",
              "      <td>698</td>\n",
              "      <td>980</td>\n",
              "      <td>yesyesyesyesyesyesyesyesyesyesyesyesyesyesyesy...</td>\n",
              "      <td>nonononoyesnononoyesyesnoyesnonononoyesnoyesno...</td>\n",
              "      <td>nonoyesyesyesyesnonoyesnoyesyesnononoyesyesnon...</td>\n",
              "      <td>nononononononononononoyesnoyesnonononononoyesn...</td>\n",
              "      <td>yesyesnoyesyesyesyesnoyesyesyesnoyesnononoyesy...</td>\n",
              "      <td>378</td>\n",
              "      <td>furnishedfurnishedsemi-furnishedfurnishedfurni...</td>\n",
              "    </tr>\n",
              "    <tr>\n",
              "      <th>542</th>\n",
              "      <td>2594367440</td>\n",
              "      <td>2800285</td>\n",
              "      <td>1610</td>\n",
              "      <td>699</td>\n",
              "      <td>981</td>\n",
              "      <td>yesyesyesyesyesyesyesyesyesyesyesyesyesyesyesy...</td>\n",
              "      <td>nonononoyesnononoyesyesnoyesnonononoyesnoyesno...</td>\n",
              "      <td>nonoyesyesyesyesnonoyesnoyesyesnononoyesyesnon...</td>\n",
              "      <td>nononononononononononoyesnoyesnonononononoyesn...</td>\n",
              "      <td>yesyesnoyesyesyesyesnoyesyesyesnoyesnononoyesy...</td>\n",
              "      <td>378</td>\n",
              "      <td>furnishedfurnishedsemi-furnishedfurnishedfurni...</td>\n",
              "    </tr>\n",
              "    <tr>\n",
              "      <th>543</th>\n",
              "      <td>2596117440</td>\n",
              "      <td>2803195</td>\n",
              "      <td>1613</td>\n",
              "      <td>700</td>\n",
              "      <td>982</td>\n",
              "      <td>yesyesyesyesyesyesyesyesyesyesyesyesyesyesyesy...</td>\n",
              "      <td>nonononoyesnononoyesyesnoyesnonononoyesnoyesno...</td>\n",
              "      <td>nonoyesyesyesyesnonoyesnoyesyesnononoyesyesnon...</td>\n",
              "      <td>nononononononononononoyesnoyesnonononononoyesn...</td>\n",
              "      <td>yesyesnoyesyesyesyesnoyesyesyesnoyesnononoyesy...</td>\n",
              "      <td>378</td>\n",
              "      <td>furnishedfurnishedsemi-furnishedfurnishedfurni...</td>\n",
              "    </tr>\n",
              "    <tr>\n",
              "      <th>544</th>\n",
              "      <td>2597867440</td>\n",
              "      <td>2807045</td>\n",
              "      <td>1616</td>\n",
              "      <td>701</td>\n",
              "      <td>984</td>\n",
              "      <td>yesyesyesyesyesyesyesyesyesyesyesyesyesyesyesy...</td>\n",
              "      <td>nonononoyesnononoyesyesnoyesnonononoyesnoyesno...</td>\n",
              "      <td>nonoyesyesyesyesnonoyesnoyesyesnononoyesyesnon...</td>\n",
              "      <td>nononononononononononoyesnoyesnonononononoyesn...</td>\n",
              "      <td>yesyesnoyesyesyesyesnoyesyesyesnoyesnononoyesy...</td>\n",
              "      <td>378</td>\n",
              "      <td>furnishedfurnishedsemi-furnishedfurnishedfurni...</td>\n",
              "    </tr>\n",
              "  </tbody>\n",
              "</table>\n",
              "<p>545 rows × 12 columns</p>\n",
              "</div>\n",
              "      <button class=\"colab-df-convert\" onclick=\"convertToInteractive('df-9183cd01-1f1b-44ee-be1c-96763744eaa0')\"\n",
              "              title=\"Convert this dataframe to an interactive table.\"\n",
              "              style=\"display:none;\">\n",
              "        \n",
              "  <svg xmlns=\"http://www.w3.org/2000/svg\" height=\"24px\"viewBox=\"0 0 24 24\"\n",
              "       width=\"24px\">\n",
              "    <path d=\"M0 0h24v24H0V0z\" fill=\"none\"/>\n",
              "    <path d=\"M18.56 5.44l.94 2.06.94-2.06 2.06-.94-2.06-.94-.94-2.06-.94 2.06-2.06.94zm-11 1L8.5 8.5l.94-2.06 2.06-.94-2.06-.94L8.5 2.5l-.94 2.06-2.06.94zm10 10l.94 2.06.94-2.06 2.06-.94-2.06-.94-.94-2.06-.94 2.06-2.06.94z\"/><path d=\"M17.41 7.96l-1.37-1.37c-.4-.4-.92-.59-1.43-.59-.52 0-1.04.2-1.43.59L10.3 9.45l-7.72 7.72c-.78.78-.78 2.05 0 2.83L4 21.41c.39.39.9.59 1.41.59.51 0 1.02-.2 1.41-.59l7.78-7.78 2.81-2.81c.8-.78.8-2.07 0-2.86zM5.41 20L4 18.59l7.72-7.72 1.47 1.35L5.41 20z\"/>\n",
              "  </svg>\n",
              "      </button>\n",
              "      \n",
              "  <style>\n",
              "    .colab-df-container {\n",
              "      display:flex;\n",
              "      flex-wrap:wrap;\n",
              "      gap: 12px;\n",
              "    }\n",
              "\n",
              "    .colab-df-convert {\n",
              "      background-color: #E8F0FE;\n",
              "      border: none;\n",
              "      border-radius: 50%;\n",
              "      cursor: pointer;\n",
              "      display: none;\n",
              "      fill: #1967D2;\n",
              "      height: 32px;\n",
              "      padding: 0 0 0 0;\n",
              "      width: 32px;\n",
              "    }\n",
              "\n",
              "    .colab-df-convert:hover {\n",
              "      background-color: #E2EBFA;\n",
              "      box-shadow: 0px 1px 2px rgba(60, 64, 67, 0.3), 0px 1px 3px 1px rgba(60, 64, 67, 0.15);\n",
              "      fill: #174EA6;\n",
              "    }\n",
              "\n",
              "    [theme=dark] .colab-df-convert {\n",
              "      background-color: #3B4455;\n",
              "      fill: #D2E3FC;\n",
              "    }\n",
              "\n",
              "    [theme=dark] .colab-df-convert:hover {\n",
              "      background-color: #434B5C;\n",
              "      box-shadow: 0px 1px 3px 1px rgba(0, 0, 0, 0.15);\n",
              "      filter: drop-shadow(0px 1px 2px rgba(0, 0, 0, 0.3));\n",
              "      fill: #FFFFFF;\n",
              "    }\n",
              "  </style>\n",
              "\n",
              "      <script>\n",
              "        const buttonEl =\n",
              "          document.querySelector('#df-9183cd01-1f1b-44ee-be1c-96763744eaa0 button.colab-df-convert');\n",
              "        buttonEl.style.display =\n",
              "          google.colab.kernel.accessAllowed ? 'block' : 'none';\n",
              "\n",
              "        async function convertToInteractive(key) {\n",
              "          const element = document.querySelector('#df-9183cd01-1f1b-44ee-be1c-96763744eaa0');\n",
              "          const dataTable =\n",
              "            await google.colab.kernel.invokeFunction('convertToInteractive',\n",
              "                                                     [key], {});\n",
              "          if (!dataTable) return;\n",
              "\n",
              "          const docLinkHtml = 'Like what you see? Visit the ' +\n",
              "            '<a target=\"_blank\" href=https://colab.research.google.com/notebooks/data_table.ipynb>data table notebook</a>'\n",
              "            + ' to learn more about interactive tables.';\n",
              "          element.innerHTML = '';\n",
              "          dataTable['output_type'] = 'display_data';\n",
              "          await google.colab.output.renderOutput(dataTable, element);\n",
              "          const docLink = document.createElement('div');\n",
              "          docLink.innerHTML = docLinkHtml;\n",
              "          element.appendChild(docLink);\n",
              "        }\n",
              "      </script>\n",
              "    </div>\n",
              "  </div>\n",
              "  "
            ]
          },
          "metadata": {},
          "execution_count": 25
        }
      ]
    },
    {
      "cell_type": "markdown",
      "source": [
        "## 5)Handle the Missing values"
      ],
      "metadata": {
        "id": "WBbLdcIXuRuv"
      }
    },
    {
      "cell_type": "code",
      "source": [
        "#To find null values\n",
        "data.info()"
      ],
      "metadata": {
        "id": "7cNL4gTruZhJ",
        "colab": {
          "base_uri": "https://localhost:8080/"
        },
        "outputId": "21463a57-6634-4af6-d148-c52cbca61896"
      },
      "execution_count": null,
      "outputs": [
        {
          "output_type": "stream",
          "name": "stdout",
          "text": [
            "<class 'pandas.core.frame.DataFrame'>\n",
            "RangeIndex: 545 entries, 0 to 544\n",
            "Data columns (total 12 columns):\n",
            " #   Column            Non-Null Count  Dtype \n",
            "---  ------            --------------  ----- \n",
            " 0   price             545 non-null    int64 \n",
            " 1   area              545 non-null    int64 \n",
            " 2   bedrooms          545 non-null    int64 \n",
            " 3   bathrooms         545 non-null    int64 \n",
            " 4   stories           545 non-null    int64 \n",
            " 5   mainroad          545 non-null    object\n",
            " 6   guestroom         545 non-null    object\n",
            " 7   basement          545 non-null    object\n",
            " 8   hotwaterheating   545 non-null    object\n",
            " 9   airconditioning   545 non-null    object\n",
            " 10  parking           545 non-null    int64 \n",
            " 11  furnishingstatus  545 non-null    object\n",
            "dtypes: int64(6), object(6)\n",
            "memory usage: 51.2+ KB\n"
          ]
        }
      ]
    },
    {
      "cell_type": "markdown",
      "source": [
        "## There is no null values in the data set\n",
        "we can fill null values by fillna() method\n",
        "(ie) df['columnname'].fillna(df['Columnname'].mode()[0], inplace=True)"
      ],
      "metadata": {
        "id": "971vIQhLu0Eu"
      }
    },
    {
      "cell_type": "code",
      "source": [
        "data"
      ],
      "metadata": {
        "id": "Tv304RE63q--",
        "colab": {
          "base_uri": "https://localhost:8080/",
          "height": 487
        },
        "outputId": "40e56b4f-59cf-4867-ce89-bfde88d26a71"
      },
      "execution_count": null,
      "outputs": [
        {
          "output_type": "execute_result",
          "data": {
            "text/plain": [
              "        price  area  bedrooms  bathrooms  stories mainroad guestroom basement  \\\n",
              "0    13300000  7420         4          2        3      yes        no       no   \n",
              "1    12250000  8960         4          4        4      yes        no       no   \n",
              "2    12250000  9960         3          2        2      yes        no      yes   \n",
              "3    12215000  7500         4          2        2      yes        no      yes   \n",
              "4    11410000  7420         4          1        2      yes       yes      yes   \n",
              "..        ...   ...       ...        ...      ...      ...       ...      ...   \n",
              "540   1820000  3000         2          1        1      yes        no      yes   \n",
              "541   1767150  2400         3          1        1       no        no       no   \n",
              "542   1750000  3620         2          1        1      yes        no       no   \n",
              "543   1750000  2910         3          1        1       no        no       no   \n",
              "544   1750000  3850         3          1        2      yes        no       no   \n",
              "\n",
              "    hotwaterheating airconditioning  parking furnishingstatus  \n",
              "0                no             yes        2        furnished  \n",
              "1                no             yes        3        furnished  \n",
              "2                no              no        2   semi-furnished  \n",
              "3                no             yes        3        furnished  \n",
              "4                no             yes        2        furnished  \n",
              "..              ...             ...      ...              ...  \n",
              "540              no              no        2      unfurnished  \n",
              "541              no              no        0   semi-furnished  \n",
              "542              no              no        0      unfurnished  \n",
              "543              no              no        0        furnished  \n",
              "544              no              no        0      unfurnished  \n",
              "\n",
              "[545 rows x 12 columns]"
            ],
            "text/html": [
              "\n",
              "  <div id=\"df-eec4c850-4657-4fd2-89ad-f7a887ea3748\">\n",
              "    <div class=\"colab-df-container\">\n",
              "      <div>\n",
              "<style scoped>\n",
              "    .dataframe tbody tr th:only-of-type {\n",
              "        vertical-align: middle;\n",
              "    }\n",
              "\n",
              "    .dataframe tbody tr th {\n",
              "        vertical-align: top;\n",
              "    }\n",
              "\n",
              "    .dataframe thead th {\n",
              "        text-align: right;\n",
              "    }\n",
              "</style>\n",
              "<table border=\"1\" class=\"dataframe\">\n",
              "  <thead>\n",
              "    <tr style=\"text-align: right;\">\n",
              "      <th></th>\n",
              "      <th>price</th>\n",
              "      <th>area</th>\n",
              "      <th>bedrooms</th>\n",
              "      <th>bathrooms</th>\n",
              "      <th>stories</th>\n",
              "      <th>mainroad</th>\n",
              "      <th>guestroom</th>\n",
              "      <th>basement</th>\n",
              "      <th>hotwaterheating</th>\n",
              "      <th>airconditioning</th>\n",
              "      <th>parking</th>\n",
              "      <th>furnishingstatus</th>\n",
              "    </tr>\n",
              "  </thead>\n",
              "  <tbody>\n",
              "    <tr>\n",
              "      <th>0</th>\n",
              "      <td>13300000</td>\n",
              "      <td>7420</td>\n",
              "      <td>4</td>\n",
              "      <td>2</td>\n",
              "      <td>3</td>\n",
              "      <td>yes</td>\n",
              "      <td>no</td>\n",
              "      <td>no</td>\n",
              "      <td>no</td>\n",
              "      <td>yes</td>\n",
              "      <td>2</td>\n",
              "      <td>furnished</td>\n",
              "    </tr>\n",
              "    <tr>\n",
              "      <th>1</th>\n",
              "      <td>12250000</td>\n",
              "      <td>8960</td>\n",
              "      <td>4</td>\n",
              "      <td>4</td>\n",
              "      <td>4</td>\n",
              "      <td>yes</td>\n",
              "      <td>no</td>\n",
              "      <td>no</td>\n",
              "      <td>no</td>\n",
              "      <td>yes</td>\n",
              "      <td>3</td>\n",
              "      <td>furnished</td>\n",
              "    </tr>\n",
              "    <tr>\n",
              "      <th>2</th>\n",
              "      <td>12250000</td>\n",
              "      <td>9960</td>\n",
              "      <td>3</td>\n",
              "      <td>2</td>\n",
              "      <td>2</td>\n",
              "      <td>yes</td>\n",
              "      <td>no</td>\n",
              "      <td>yes</td>\n",
              "      <td>no</td>\n",
              "      <td>no</td>\n",
              "      <td>2</td>\n",
              "      <td>semi-furnished</td>\n",
              "    </tr>\n",
              "    <tr>\n",
              "      <th>3</th>\n",
              "      <td>12215000</td>\n",
              "      <td>7500</td>\n",
              "      <td>4</td>\n",
              "      <td>2</td>\n",
              "      <td>2</td>\n",
              "      <td>yes</td>\n",
              "      <td>no</td>\n",
              "      <td>yes</td>\n",
              "      <td>no</td>\n",
              "      <td>yes</td>\n",
              "      <td>3</td>\n",
              "      <td>furnished</td>\n",
              "    </tr>\n",
              "    <tr>\n",
              "      <th>4</th>\n",
              "      <td>11410000</td>\n",
              "      <td>7420</td>\n",
              "      <td>4</td>\n",
              "      <td>1</td>\n",
              "      <td>2</td>\n",
              "      <td>yes</td>\n",
              "      <td>yes</td>\n",
              "      <td>yes</td>\n",
              "      <td>no</td>\n",
              "      <td>yes</td>\n",
              "      <td>2</td>\n",
              "      <td>furnished</td>\n",
              "    </tr>\n",
              "    <tr>\n",
              "      <th>...</th>\n",
              "      <td>...</td>\n",
              "      <td>...</td>\n",
              "      <td>...</td>\n",
              "      <td>...</td>\n",
              "      <td>...</td>\n",
              "      <td>...</td>\n",
              "      <td>...</td>\n",
              "      <td>...</td>\n",
              "      <td>...</td>\n",
              "      <td>...</td>\n",
              "      <td>...</td>\n",
              "      <td>...</td>\n",
              "    </tr>\n",
              "    <tr>\n",
              "      <th>540</th>\n",
              "      <td>1820000</td>\n",
              "      <td>3000</td>\n",
              "      <td>2</td>\n",
              "      <td>1</td>\n",
              "      <td>1</td>\n",
              "      <td>yes</td>\n",
              "      <td>no</td>\n",
              "      <td>yes</td>\n",
              "      <td>no</td>\n",
              "      <td>no</td>\n",
              "      <td>2</td>\n",
              "      <td>unfurnished</td>\n",
              "    </tr>\n",
              "    <tr>\n",
              "      <th>541</th>\n",
              "      <td>1767150</td>\n",
              "      <td>2400</td>\n",
              "      <td>3</td>\n",
              "      <td>1</td>\n",
              "      <td>1</td>\n",
              "      <td>no</td>\n",
              "      <td>no</td>\n",
              "      <td>no</td>\n",
              "      <td>no</td>\n",
              "      <td>no</td>\n",
              "      <td>0</td>\n",
              "      <td>semi-furnished</td>\n",
              "    </tr>\n",
              "    <tr>\n",
              "      <th>542</th>\n",
              "      <td>1750000</td>\n",
              "      <td>3620</td>\n",
              "      <td>2</td>\n",
              "      <td>1</td>\n",
              "      <td>1</td>\n",
              "      <td>yes</td>\n",
              "      <td>no</td>\n",
              "      <td>no</td>\n",
              "      <td>no</td>\n",
              "      <td>no</td>\n",
              "      <td>0</td>\n",
              "      <td>unfurnished</td>\n",
              "    </tr>\n",
              "    <tr>\n",
              "      <th>543</th>\n",
              "      <td>1750000</td>\n",
              "      <td>2910</td>\n",
              "      <td>3</td>\n",
              "      <td>1</td>\n",
              "      <td>1</td>\n",
              "      <td>no</td>\n",
              "      <td>no</td>\n",
              "      <td>no</td>\n",
              "      <td>no</td>\n",
              "      <td>no</td>\n",
              "      <td>0</td>\n",
              "      <td>furnished</td>\n",
              "    </tr>\n",
              "    <tr>\n",
              "      <th>544</th>\n",
              "      <td>1750000</td>\n",
              "      <td>3850</td>\n",
              "      <td>3</td>\n",
              "      <td>1</td>\n",
              "      <td>2</td>\n",
              "      <td>yes</td>\n",
              "      <td>no</td>\n",
              "      <td>no</td>\n",
              "      <td>no</td>\n",
              "      <td>no</td>\n",
              "      <td>0</td>\n",
              "      <td>unfurnished</td>\n",
              "    </tr>\n",
              "  </tbody>\n",
              "</table>\n",
              "<p>545 rows × 12 columns</p>\n",
              "</div>\n",
              "      <button class=\"colab-df-convert\" onclick=\"convertToInteractive('df-eec4c850-4657-4fd2-89ad-f7a887ea3748')\"\n",
              "              title=\"Convert this dataframe to an interactive table.\"\n",
              "              style=\"display:none;\">\n",
              "        \n",
              "  <svg xmlns=\"http://www.w3.org/2000/svg\" height=\"24px\"viewBox=\"0 0 24 24\"\n",
              "       width=\"24px\">\n",
              "    <path d=\"M0 0h24v24H0V0z\" fill=\"none\"/>\n",
              "    <path d=\"M18.56 5.44l.94 2.06.94-2.06 2.06-.94-2.06-.94-.94-2.06-.94 2.06-2.06.94zm-11 1L8.5 8.5l.94-2.06 2.06-.94-2.06-.94L8.5 2.5l-.94 2.06-2.06.94zm10 10l.94 2.06.94-2.06 2.06-.94-2.06-.94-.94-2.06-.94 2.06-2.06.94z\"/><path d=\"M17.41 7.96l-1.37-1.37c-.4-.4-.92-.59-1.43-.59-.52 0-1.04.2-1.43.59L10.3 9.45l-7.72 7.72c-.78.78-.78 2.05 0 2.83L4 21.41c.39.39.9.59 1.41.59.51 0 1.02-.2 1.41-.59l7.78-7.78 2.81-2.81c.8-.78.8-2.07 0-2.86zM5.41 20L4 18.59l7.72-7.72 1.47 1.35L5.41 20z\"/>\n",
              "  </svg>\n",
              "      </button>\n",
              "      \n",
              "  <style>\n",
              "    .colab-df-container {\n",
              "      display:flex;\n",
              "      flex-wrap:wrap;\n",
              "      gap: 12px;\n",
              "    }\n",
              "\n",
              "    .colab-df-convert {\n",
              "      background-color: #E8F0FE;\n",
              "      border: none;\n",
              "      border-radius: 50%;\n",
              "      cursor: pointer;\n",
              "      display: none;\n",
              "      fill: #1967D2;\n",
              "      height: 32px;\n",
              "      padding: 0 0 0 0;\n",
              "      width: 32px;\n",
              "    }\n",
              "\n",
              "    .colab-df-convert:hover {\n",
              "      background-color: #E2EBFA;\n",
              "      box-shadow: 0px 1px 2px rgba(60, 64, 67, 0.3), 0px 1px 3px 1px rgba(60, 64, 67, 0.15);\n",
              "      fill: #174EA6;\n",
              "    }\n",
              "\n",
              "    [theme=dark] .colab-df-convert {\n",
              "      background-color: #3B4455;\n",
              "      fill: #D2E3FC;\n",
              "    }\n",
              "\n",
              "    [theme=dark] .colab-df-convert:hover {\n",
              "      background-color: #434B5C;\n",
              "      box-shadow: 0px 1px 3px 1px rgba(0, 0, 0, 0.15);\n",
              "      filter: drop-shadow(0px 1px 2px rgba(0, 0, 0, 0.3));\n",
              "      fill: #FFFFFF;\n",
              "    }\n",
              "  </style>\n",
              "\n",
              "      <script>\n",
              "        const buttonEl =\n",
              "          document.querySelector('#df-eec4c850-4657-4fd2-89ad-f7a887ea3748 button.colab-df-convert');\n",
              "        buttonEl.style.display =\n",
              "          google.colab.kernel.accessAllowed ? 'block' : 'none';\n",
              "\n",
              "        async function convertToInteractive(key) {\n",
              "          const element = document.querySelector('#df-eec4c850-4657-4fd2-89ad-f7a887ea3748');\n",
              "          const dataTable =\n",
              "            await google.colab.kernel.invokeFunction('convertToInteractive',\n",
              "                                                     [key], {});\n",
              "          if (!dataTable) return;\n",
              "\n",
              "          const docLinkHtml = 'Like what you see? Visit the ' +\n",
              "            '<a target=\"_blank\" href=https://colab.research.google.com/notebooks/data_table.ipynb>data table notebook</a>'\n",
              "            + ' to learn more about interactive tables.';\n",
              "          element.innerHTML = '';\n",
              "          dataTable['output_type'] = 'display_data';\n",
              "          await google.colab.output.renderOutput(dataTable, element);\n",
              "          const docLink = document.createElement('div');\n",
              "          docLink.innerHTML = docLinkHtml;\n",
              "          element.appendChild(docLink);\n",
              "        }\n",
              "      </script>\n",
              "    </div>\n",
              "  </div>\n",
              "  "
            ]
          },
          "metadata": {},
          "execution_count": 27
        }
      ]
    },
    {
      "cell_type": "markdown",
      "source": [
        "#6) Find the outliers and replace them outliers#"
      ],
      "metadata": {
        "id": "QGO_u4LnA1OG"
      }
    },
    {
      "cell_type": "code",
      "source": [
        "#identifying outliers using boxplot\n",
        "sns.boxplot(data['area'])"
      ],
      "metadata": {
        "id": "1nRd0Uu66Y6j",
        "colab": {
          "base_uri": "https://localhost:8080/",
          "height": 448
        },
        "outputId": "574c6243-746a-4b62-c2af-54de0fdd288f"
      },
      "execution_count": null,
      "outputs": [
        {
          "output_type": "execute_result",
          "data": {
            "text/plain": [
              "<Axes: >"
            ]
          },
          "metadata": {},
          "execution_count": 28
        },
        {
          "output_type": "display_data",
          "data": {
            "text/plain": [
              "<Figure size 640x480 with 1 Axes>"
            ],
            "image/png": "[encoded data removed]"
          },
          "metadata": {}
        }
      ]
    },
    {
      "cell_type": "code",
      "source": [
        "print(np.where(data['area']>10000))#position of outlier"
      ],
      "metadata": {
        "colab": {
          "base_uri": "https://localhost:8080/"
        },
        "id": "3lZ9o2Rk5ofb",
        "outputId": "69eb5c60-2361-4167-eba7-23aaeb320943"
      },
      "execution_count": null,
      "outputs": [
        {
          "output_type": "stream",
          "name": "stdout",
          "text": [
            "(array([  7,  10,  56,  64,  66,  69,  82, 125, 129, 142, 146, 171, 186,\n",
            "       191, 211, 224, 277, 403]),)\n"
          ]
        }
      ]
    },
    {
      "cell_type": "code",
      "source": [
        "print(data['area'].quantile(0.50))\n",
        "print(data['area'].quantile(0.95))\n",
        "data['area']=np.where(data['area']>10000,6000,data['area'])\n",
        "data.describe()"
      ],
      "metadata": {
        "colab": {
          "base_uri": "https://localhost:8080/",
          "height": 336
        },
        "id": "e9DJuOFi50aX",
        "outputId": "40312d88-fc9c-413f-af43-f5d19b501356"
      },
      "execution_count": null,
      "outputs": [
        {
          "output_type": "stream",
          "name": "stdout",
          "text": [
            "4600.0\n",
            "9000.0\n"
          ]
        },
        {
          "output_type": "execute_result",
          "data": {
            "text/plain": [
              "              price         area    bedrooms   bathrooms     stories  \\\n",
              "count  5.450000e+02   545.000000  545.000000  545.000000  545.000000   \n",
              "mean   4.766729e+06  4954.783486    2.965138    1.286239    1.805505   \n",
              "std    1.870440e+06  1753.951802    0.738064    0.502470    0.867492   \n",
              "min    1.750000e+06  1650.000000    1.000000    1.000000    1.000000   \n",
              "25%    3.430000e+06  3600.000000    2.000000    1.000000    1.000000   \n",
              "50%    4.340000e+06  4600.000000    3.000000    1.000000    2.000000   \n",
              "75%    5.740000e+06  6050.000000    3.000000    2.000000    2.000000   \n",
              "max    1.330000e+07  9960.000000    6.000000    4.000000    4.000000   \n",
              "\n",
              "          parking  \n",
              "count  545.000000  \n",
              "mean     0.693578  \n",
              "std      0.861586  \n",
              "min      0.000000  \n",
              "25%      0.000000  \n",
              "50%      0.000000  \n",
              "75%      1.000000  \n",
              "max      3.000000  "
            ],
            "text/html": [
              "\n",
              "  <div id=\"df-fb869c70-0a7c-489c-b2d7-87b0cd396218\">\n",
              "    <div class=\"colab-df-container\">\n",
              "      <div>\n",
              "<style scoped>\n",
              "    .dataframe tbody tr th:only-of-type {\n",
              "        vertical-align: middle;\n",
              "    }\n",
              "\n",
              "    .dataframe tbody tr th {\n",
              "        vertical-align: top;\n",
              "    }\n",
              "\n",
              "    .dataframe thead th {\n",
              "        text-align: right;\n",
              "    }\n",
              "</style>\n",
              "<table border=\"1\" class=\"dataframe\">\n",
              "  <thead>\n",
              "    <tr style=\"text-align: right;\">\n",
              "      <th></th>\n",
              "      <th>price</th>\n",
              "      <th>area</th>\n",
              "      <th>bedrooms</th>\n",
              "      <th>bathrooms</th>\n",
              "      <th>stories</th>\n",
              "      <th>parking</th>\n",
              "    </tr>\n",
              "  </thead>\n",
              "  <tbody>\n",
              "    <tr>\n",
              "      <th>count</th>\n",
              "      <td>5.450000e+02</td>\n",
              "      <td>545.000000</td>\n",
              "      <td>545.000000</td>\n",
              "      <td>545.000000</td>\n",
              "      <td>545.000000</td>\n",
              "      <td>545.000000</td>\n",
              "    </tr>\n",
              "    <tr>\n",
              "      <th>mean</th>\n",
              "      <td>4.766729e+06</td>\n",
              "      <td>4954.783486</td>\n",
              "      <td>2.965138</td>\n",
              "      <td>1.286239</td>\n",
              "      <td>1.805505</td>\n",
              "      <td>0.693578</td>\n",
              "    </tr>\n",
              "    <tr>\n",
              "      <th>std</th>\n",
              "      <td>1.870440e+06</td>\n",
              "      <td>1753.951802</td>\n",
              "      <td>0.738064</td>\n",
              "      <td>0.502470</td>\n",
              "      <td>0.867492</td>\n",
              "      <td>0.861586</td>\n",
              "    </tr>\n",
              "    <tr>\n",
              "      <th>min</th>\n",
              "      <td>1.750000e+06</td>\n",
              "      <td>1650.000000</td>\n",
              "      <td>1.000000</td>\n",
              "      <td>1.000000</td>\n",
              "      <td>1.000000</td>\n",
              "      <td>0.000000</td>\n",
              "    </tr>\n",
              "    <tr>\n",
              "      <th>25%</th>\n",
              "      <td>3.430000e+06</td>\n",
              "      <td>3600.000000</td>\n",
              "      <td>2.000000</td>\n",
              "      <td>1.000000</td>\n",
              "      <td>1.000000</td>\n",
              "      <td>0.000000</td>\n",
              "    </tr>\n",
              "    <tr>\n",
              "      <th>50%</th>\n",
              "      <td>4.340000e+06</td>\n",
              "      <td>4600.000000</td>\n",
              "      <td>3.000000</td>\n",
              "      <td>1.000000</td>\n",
              "      <td>2.000000</td>\n",
              "      <td>0.000000</td>\n",
              "    </tr>\n",
              "    <tr>\n",
              "      <th>75%</th>\n",
              "      <td>5.740000e+06</td>\n",
              "      <td>6050.000000</td>\n",
              "      <td>3.000000</td>\n",
              "      <td>2.000000</td>\n",
              "      <td>2.000000</td>\n",
              "      <td>1.000000</td>\n",
              "    </tr>\n",
              "    <tr>\n",
              "      <th>max</th>\n",
              "      <td>1.330000e+07</td>\n",
              "      <td>9960.000000</td>\n",
              "      <td>6.000000</td>\n",
              "      <td>4.000000</td>\n",
              "      <td>4.000000</td>\n",
              "      <td>3.000000</td>\n",
              "    </tr>\n",
              "  </tbody>\n",
              "</table>\n",
              "</div>\n",
              "      <button class=\"colab-df-convert\" onclick=\"convertToInteractive('df-fb869c70-0a7c-489c-b2d7-87b0cd396218')\"\n",
              "              title=\"Convert this dataframe to an interactive table.\"\n",
              "              style=\"display:none;\">\n",
              "        \n",
              "  <svg xmlns=\"http://www.w3.org/2000/svg\" height=\"24px\"viewBox=\"0 0 24 24\"\n",
              "       width=\"24px\">\n",
              "    <path d=\"M0 0h24v24H0V0z\" fill=\"none\"/>\n",
              "    <path d=\"M18.56 5.44l.94 2.06.94-2.06 2.06-.94-2.06-.94-.94-2.06-.94 2.06-2.06.94zm-11 1L8.5 8.5l.94-2.06 2.06-.94-2.06-.94L8.5 2.5l-.94 2.06-2.06.94zm10 10l.94 2.06.94-2.06 2.06-.94-2.06-.94-.94-2.06-.94 2.06-2.06.94z\"/><path d=\"M17.41 7.96l-1.37-1.37c-.4-.4-.92-.59-1.43-.59-.52 0-1.04.2-1.43.59L10.3 9.45l-7.72 7.72c-.78.78-.78 2.05 0 2.83L4 21.41c.39.39.9.59 1.41.59.51 0 1.02-.2 1.41-.59l7.78-7.78 2.81-2.81c.8-.78.8-2.07 0-2.86zM5.41 20L4 18.59l7.72-7.72 1.47 1.35L5.41 20z\"/>\n",
              "  </svg>\n",
              "      </button>\n",
              "      \n",
              "  <style>\n",
              "    .colab-df-container {\n",
              "      display:flex;\n",
              "      flex-wrap:wrap;\n",
              "      gap: 12px;\n",
              "    }\n",
              "\n",
              "    .colab-df-convert {\n",
              "      background-color: #E8F0FE;\n",
              "      border: none;\n",
              "      border-radius: 50%;\n",
              "      cursor: pointer;\n",
              "      display: none;\n",
              "      fill: #1967D2;\n",
              "      height: 32px;\n",
              "      padding: 0 0 0 0;\n",
              "      width: 32px;\n",
              "    }\n",
              "\n",
              "    .colab-df-convert:hover {\n",
              "      background-color: #E2EBFA;\n",
              "      box-shadow: 0px 1px 2px rgba(60, 64, 67, 0.3), 0px 1px 3px 1px rgba(60, 64, 67, 0.15);\n",
              "      fill: #174EA6;\n",
              "    }\n",
              "\n",
              "    [theme=dark] .colab-df-convert {\n",
              "      background-color: #3B4455;\n",
              "      fill: #D2E3FC;\n",
              "    }\n",
              "\n",
              "    [theme=dark] .colab-df-convert:hover {\n",
              "      background-color: #434B5C;\n",
              "      box-shadow: 0px 1px 3px 1px rgba(0, 0, 0, 0.15);\n",
              "      filter: drop-shadow(0px 1px 2px rgba(0, 0, 0, 0.3));\n",
              "      fill: #FFFFFF;\n",
              "    }\n",
              "  </style>\n",
              "\n",
              "      <script>\n",
              "        const buttonEl =\n",
              "          document.querySelector('#df-fb869c70-0a7c-489c-b2d7-87b0cd396218 button.colab-df-convert');\n",
              "        buttonEl.style.display =\n",
              "          google.colab.kernel.accessAllowed ? 'block' : 'none';\n",
              "\n",
              "        async function convertToInteractive(key) {\n",
              "          const element = document.querySelector('#df-fb869c70-0a7c-489c-b2d7-87b0cd396218');\n",
              "          const dataTable =\n",
              "            await google.colab.kernel.invokeFunction('convertToInteractive',\n",
              "                                                     [key], {});\n",
              "          if (!dataTable) return;\n",
              "\n",
              "          const docLinkHtml = 'Like what you see? Visit the ' +\n",
              "            '<a target=\"_blank\" href=https://colab.research.google.com/notebooks/data_table.ipynb>data table notebook</a>'\n",
              "            + ' to learn more about interactive tables.';\n",
              "          element.innerHTML = '';\n",
              "          dataTable['output_type'] = 'display_data';\n",
              "          await google.colab.output.renderOutput(dataTable, element);\n",
              "          const docLink = document.createElement('div');\n",
              "          docLink.innerHTML = docLinkHtml;\n",
              "          element.appendChild(docLink);\n",
              "        }\n",
              "      </script>\n",
              "    </div>\n",
              "  </div>\n",
              "  "
            ]
          },
          "metadata": {},
          "execution_count": 30
        }
      ]
    },
    {
      "cell_type": "code",
      "source": [
        "#afterreplacing outliers\n",
        "sns.boxplot(data['area'])"
      ],
      "metadata": {
        "colab": {
          "base_uri": "https://localhost:8080/",
          "height": 448
        },
        "id": "M4VdtE7B9G8a",
        "outputId": "0c572b87-b452-41f3-b875-29c3307fdd42"
      },
      "execution_count": null,
      "outputs": [
        {
          "output_type": "execute_result",
          "data": {
            "text/plain": [
              "<Axes: >"
            ]
          },
          "metadata": {},
          "execution_count": 31
        },
        {
          "output_type": "display_data",
          "data": {
            "text/plain": [
              "<Figure size 640x480 with 1 Axes>"
            ],
            "image/png": "[encoded data removed]"
          },
          "metadata": {}
        }
      ]
    },
    {
      "cell_type": "markdown",
      "source": [
        "##7)Check for categorical columns and performing encoding##"
      ],
      "metadata": {
        "id": "WWMIrC2Z9S15"
      }
    },
    {
      "cell_type": "code",
      "source": [
        "data.info()"
      ],
      "metadata": {
        "colab": {
          "base_uri": "https://localhost:8080/"
        },
        "id": "6TXw1BqR9iYw",
        "outputId": "1dc33c20-09db-421f-99f1-8c4f5e077256"
      },
      "execution_count": null,
      "outputs": [
        {
          "output_type": "stream",
          "name": "stdout",
          "text": [
            "<class 'pandas.core.frame.DataFrame'>\n",
            "RangeIndex: 545 entries, 0 to 544\n",
            "Data columns (total 12 columns):\n",
            " #   Column            Non-Null Count  Dtype \n",
            "---  ------            --------------  ----- \n",
            " 0   price             545 non-null    int64 \n",
            " 1   area              545 non-null    int64 \n",
            " 2   bedrooms          545 non-null    int64 \n",
            " 3   bathrooms         545 non-null    int64 \n",
            " 4   stories           545 non-null    int64 \n",
            " 5   mainroad          545 non-null    object\n",
            " 6   guestroom         545 non-null    object\n",
            " 7   basement          545 non-null    object\n",
            " 8   hotwaterheating   545 non-null    object\n",
            " 9   airconditioning   545 non-null    object\n",
            " 10  parking           545 non-null    int64 \n",
            " 11  furnishingstatus  545 non-null    object\n",
            "dtypes: int64(6), object(6)\n",
            "memory usage: 51.2+ KB\n"
          ]
        }
      ]
    },
    {
      "cell_type": "code",
      "source": [
        "data_numeric=data[['price','area','bedrooms','bathrooms','stories','parking']]\n",
        "data_categorical=data[['mainroad','guestroom','basement','hotwaterheating','airconditioning','furnishingstatus']]"
      ],
      "metadata": {
        "id": "trGpUUUX-gOG"
      },
      "execution_count": null,
      "outputs": []
    },
    {
      "cell_type": "code",
      "source": [
        "data_numeric.head()"
      ],
      "metadata": {
        "colab": {
          "base_uri": "https://localhost:8080/",
          "height": 206
        },
        "id": "BWy3QXKR_YJ5",
        "outputId": "c9c83554-14b6-460b-c78c-b5f89d4ed55c"
      },
      "execution_count": null,
      "outputs": [
        {
          "output_type": "execute_result",
          "data": {
            "text/plain": [
              "      price  area  bedrooms  bathrooms  stories  parking\n",
              "0  13300000  7420         4          2        3        2\n",
              "1  12250000  8960         4          4        4        3\n",
              "2  12250000  9960         3          2        2        2\n",
              "3  12215000  7500         4          2        2        3\n",
              "4  11410000  7420         4          1        2        2"
            ],
            "text/html": [
              "\n",
              "  <div id=\"df-8da533fc-954a-4cfa-ae31-3e8865004efb\">\n",
              "    <div class=\"colab-df-container\">\n",
              "      <div>\n",
              "<style scoped>\n",
              "    .dataframe tbody tr th:only-of-type {\n",
              "        vertical-align: middle;\n",
              "    }\n",
              "\n",
              "    .dataframe tbody tr th {\n",
              "        vertical-align: top;\n",
              "    }\n",
              "\n",
              "    .dataframe thead th {\n",
              "        text-align: right;\n",
              "    }\n",
              "</style>\n",
              "<table border=\"1\" class=\"dataframe\">\n",
              "  <thead>\n",
              "    <tr style=\"text-align: right;\">\n",
              "      <th></th>\n",
              "      <th>price</th>\n",
              "      <th>area</th>\n",
              "      <th>bedrooms</th>\n",
              "      <th>bathrooms</th>\n",
              "      <th>stories</th>\n",
              "      <th>parking</th>\n",
              "    </tr>\n",
              "  </thead>\n",
              "  <tbody>\n",
              "    <tr>\n",
              "      <th>0</th>\n",
              "      <td>13300000</td>\n",
              "      <td>7420</td>\n",
              "      <td>4</td>\n",
              "      <td>2</td>\n",
              "      <td>3</td>\n",
              "      <td>2</td>\n",
              "    </tr>\n",
              "    <tr>\n",
              "      <th>1</th>\n",
              "      <td>12250000</td>\n",
              "      <td>8960</td>\n",
              "      <td>4</td>\n",
              "      <td>4</td>\n",
              "      <td>4</td>\n",
              "      <td>3</td>\n",
              "    </tr>\n",
              "    <tr>\n",
              "      <th>2</th>\n",
              "      <td>12250000</td>\n",
              "      <td>9960</td>\n",
              "      <td>3</td>\n",
              "      <td>2</td>\n",
              "      <td>2</td>\n",
              "      <td>2</td>\n",
              "    </tr>\n",
              "    <tr>\n",
              "      <th>3</th>\n",
              "      <td>12215000</td>\n",
              "      <td>7500</td>\n",
              "      <td>4</td>\n",
              "      <td>2</td>\n",
              "      <td>2</td>\n",
              "      <td>3</td>\n",
              "    </tr>\n",
              "    <tr>\n",
              "      <th>4</th>\n",
              "      <td>11410000</td>\n",
              "      <td>7420</td>\n",
              "      <td>4</td>\n",
              "      <td>1</td>\n",
              "      <td>2</td>\n",
              "      <td>2</td>\n",
              "    </tr>\n",
              "  </tbody>\n",
              "</table>\n",
              "</div>\n",
              "      <button class=\"colab-df-convert\" onclick=\"convertToInteractive('df-8da533fc-954a-4cfa-ae31-3e8865004efb')\"\n",
              "              title=\"Convert this dataframe to an interactive table.\"\n",
              "              style=\"display:none;\">\n",
              "        \n",
              "  <svg xmlns=\"http://www.w3.org/2000/svg\" height=\"24px\"viewBox=\"0 0 24 24\"\n",
              "       width=\"24px\">\n",
              "    <path d=\"M0 0h24v24H0V0z\" fill=\"none\"/>\n",
              "    <path d=\"M18.56 5.44l.94 2.06.94-2.06 2.06-.94-2.06-.94-.94-2.06-.94 2.06-2.06.94zm-11 1L8.5 8.5l.94-2.06 2.06-.94-2.06-.94L8.5 2.5l-.94 2.06-2.06.94zm10 10l.94 2.06.94-2.06 2.06-.94-2.06-.94-.94-2.06-.94 2.06-2.06.94z\"/><path d=\"M17.41 7.96l-1.37-1.37c-.4-.4-.92-.59-1.43-.59-.52 0-1.04.2-1.43.59L10.3 9.45l-7.72 7.72c-.78.78-.78 2.05 0 2.83L4 21.41c.39.39.9.59 1.41.59.51 0 1.02-.2 1.41-.59l7.78-7.78 2.81-2.81c.8-.78.8-2.07 0-2.86zM5.41 20L4 18.59l7.72-7.72 1.47 1.35L5.41 20z\"/>\n",
              "  </svg>\n",
              "      </button>\n",
              "      \n",
              "  <style>\n",
              "    .colab-df-container {\n",
              "      display:flex;\n",
              "      flex-wrap:wrap;\n",
              "      gap: 12px;\n",
              "    }\n",
              "\n",
              "    .colab-df-convert {\n",
              "      background-color: #E8F0FE;\n",
              "      border: none;\n",
              "      border-radius: 50%;\n",
              "      cursor: pointer;\n",
              "      display: none;\n",
              "      fill: #1967D2;\n",
              "      height: 32px;\n",
              "      padding: 0 0 0 0;\n",
              "      width: 32px;\n",
              "    }\n",
              "\n",
              "    .colab-df-convert:hover {\n",
              "      background-color: #E2EBFA;\n",
              "      box-shadow: 0px 1px 2px rgba(60, 64, 67, 0.3), 0px 1px 3px 1px rgba(60, 64, 67, 0.15);\n",
              "      fill: #174EA6;\n",
              "    }\n",
              "\n",
              "    [theme=dark] .colab-df-convert {\n",
              "      background-color: #3B4455;\n",
              "      fill: #D2E3FC;\n",
              "    }\n",
              "\n",
              "    [theme=dark] .colab-df-convert:hover {\n",
              "      background-color: #434B5C;\n",
              "      box-shadow: 0px 1px 3px 1px rgba(0, 0, 0, 0.15);\n",
              "      filter: drop-shadow(0px 1px 2px rgba(0, 0, 0, 0.3));\n",
              "      fill: #FFFFFF;\n",
              "    }\n",
              "  </style>\n",
              "\n",
              "      <script>\n",
              "        const buttonEl =\n",
              "          document.querySelector('#df-8da533fc-954a-4cfa-ae31-3e8865004efb button.colab-df-convert');\n",
              "        buttonEl.style.display =\n",
              "          google.colab.kernel.accessAllowed ? 'block' : 'none';\n",
              "\n",
              "        async function convertToInteractive(key) {\n",
              "          const element = document.querySelector('#df-8da533fc-954a-4cfa-ae31-3e8865004efb');\n",
              "          const dataTable =\n",
              "            await google.colab.kernel.invokeFunction('convertToInteractive',\n",
              "                                                     [key], {});\n",
              "          if (!dataTable) return;\n",
              "\n",
              "          const docLinkHtml = 'Like what you see? Visit the ' +\n",
              "            '<a target=\"_blank\" href=https://colab.research.google.com/notebooks/data_table.ipynb>data table notebook</a>'\n",
              "            + ' to learn more about interactive tables.';\n",
              "          element.innerHTML = '';\n",
              "          dataTable['output_type'] = 'display_data';\n",
              "          await google.colab.output.renderOutput(dataTable, element);\n",
              "          const docLink = document.createElement('div');\n",
              "          docLink.innerHTML = docLinkHtml;\n",
              "          element.appendChild(docLink);\n",
              "        }\n",
              "      </script>\n",
              "    </div>\n",
              "  </div>\n",
              "  "
            ]
          },
          "metadata": {},
          "execution_count": 34
        }
      ]
    },
    {
      "cell_type": "code",
      "source": [
        "data_categorical.head()"
      ],
      "metadata": {
        "colab": {
          "base_uri": "https://localhost:8080/",
          "height": 206
        },
        "id": "rGzxiLRA_gf0",
        "outputId": "c19e4770-9ef1-4de7-ba92-e49b1a30ec18"
      },
      "execution_count": null,
      "outputs": [
        {
          "output_type": "execute_result",
          "data": {
            "text/plain": [
              "  mainroad guestroom basement hotwaterheating airconditioning furnishingstatus\n",
              "0      yes        no       no              no             yes        furnished\n",
              "1      yes        no       no              no             yes        furnished\n",
              "2      yes        no      yes              no              no   semi-furnished\n",
              "3      yes        no      yes              no             yes        furnished\n",
              "4      yes       yes      yes              no             yes        furnished"
            ],
            "text/html": [
              "\n",
              "  <div id=\"df-0484e44b-8360-403d-bfbe-2b8b37c34eef\">\n",
              "    <div class=\"colab-df-container\">\n",
              "      <div>\n",
              "<style scoped>\n",
              "    .dataframe tbody tr th:only-of-type {\n",
              "        vertical-align: middle;\n",
              "    }\n",
              "\n",
              "    .dataframe tbody tr th {\n",
              "        vertical-align: top;\n",
              "    }\n",
              "\n",
              "    .dataframe thead th {\n",
              "        text-align: right;\n",
              "    }\n",
              "</style>\n",
              "<table border=\"1\" class=\"dataframe\">\n",
              "  <thead>\n",
              "    <tr style=\"text-align: right;\">\n",
              "      <th></th>\n",
              "      <th>mainroad</th>\n",
              "      <th>guestroom</th>\n",
              "      <th>basement</th>\n",
              "      <th>hotwaterheating</th>\n",
              "      <th>airconditioning</th>\n",
              "      <th>furnishingstatus</th>\n",
              "    </tr>\n",
              "  </thead>\n",
              "  <tbody>\n",
              "    <tr>\n",
              "      <th>0</th>\n",
              "      <td>yes</td>\n",
              "      <td>no</td>\n",
              "      <td>no</td>\n",
              "      <td>no</td>\n",
              "      <td>yes</td>\n",
              "      <td>furnished</td>\n",
              "    </tr>\n",
              "    <tr>\n",
              "      <th>1</th>\n",
              "      <td>yes</td>\n",
              "      <td>no</td>\n",
              "      <td>no</td>\n",
              "      <td>no</td>\n",
              "      <td>yes</td>\n",
              "      <td>furnished</td>\n",
              "    </tr>\n",
              "    <tr>\n",
              "      <th>2</th>\n",
              "      <td>yes</td>\n",
              "      <td>no</td>\n",
              "      <td>yes</td>\n",
              "      <td>no</td>\n",
              "      <td>no</td>\n",
              "      <td>semi-furnished</td>\n",
              "    </tr>\n",
              "    <tr>\n",
              "      <th>3</th>\n",
              "      <td>yes</td>\n",
              "      <td>no</td>\n",
              "      <td>yes</td>\n",
              "      <td>no</td>\n",
              "      <td>yes</td>\n",
              "      <td>furnished</td>\n",
              "    </tr>\n",
              "    <tr>\n",
              "      <th>4</th>\n",
              "      <td>yes</td>\n",
              "      <td>yes</td>\n",
              "      <td>yes</td>\n",
              "      <td>no</td>\n",
              "      <td>yes</td>\n",
              "      <td>furnished</td>\n",
              "    </tr>\n",
              "  </tbody>\n",
              "</table>\n",
              "</div>\n",
              "      <button class=\"colab-df-convert\" onclick=\"convertToInteractive('df-0484e44b-8360-403d-bfbe-2b8b37c34eef')\"\n",
              "              title=\"Convert this dataframe to an interactive table.\"\n",
              "              style=\"display:none;\">\n",
              "        \n",
              "  <svg xmlns=\"http://www.w3.org/2000/svg\" height=\"24px\"viewBox=\"0 0 24 24\"\n",
              "       width=\"24px\">\n",
              "    <path d=\"M0 0h24v24H0V0z\" fill=\"none\"/>\n",
              "    <path d=\"M18.56 5.44l.94 2.06.94-2.06 2.06-.94-2.06-.94-.94-2.06-.94 2.06-2.06.94zm-11 1L8.5 8.5l.94-2.06 2.06-.94-2.06-.94L8.5 2.5l-.94 2.06-2.06.94zm10 10l.94 2.06.94-2.06 2.06-.94-2.06-.94-.94-2.06-.94 2.06-2.06.94z\"/><path d=\"M17.41 7.96l-1.37-1.37c-.4-.4-.92-.59-1.43-.59-.52 0-1.04.2-1.43.59L10.3 9.45l-7.72 7.72c-.78.78-.78 2.05 0 2.83L4 21.41c.39.39.9.59 1.41.59.51 0 1.02-.2 1.41-.59l7.78-7.78 2.81-2.81c.8-.78.8-2.07 0-2.86zM5.41 20L4 18.59l7.72-7.72 1.47 1.35L5.41 20z\"/>\n",
              "  </svg>\n",
              "      </button>\n",
              "      \n",
              "  <style>\n",
              "    .colab-df-container {\n",
              "      display:flex;\n",
              "      flex-wrap:wrap;\n",
              "      gap: 12px;\n",
              "    }\n",
              "\n",
              "    .colab-df-convert {\n",
              "      background-color: #E8F0FE;\n",
              "      border: none;\n",
              "      border-radius: 50%;\n",
              "      cursor: pointer;\n",
              "      display: none;\n",
              "      fill: #1967D2;\n",
              "      height: 32px;\n",
              "      padding: 0 0 0 0;\n",
              "      width: 32px;\n",
              "    }\n",
              "\n",
              "    .colab-df-convert:hover {\n",
              "      background-color: #E2EBFA;\n",
              "      box-shadow: 0px 1px 2px rgba(60, 64, 67, 0.3), 0px 1px 3px 1px rgba(60, 64, 67, 0.15);\n",
              "      fill: #174EA6;\n",
              "    }\n",
              "\n",
              "    [theme=dark] .colab-df-convert {\n",
              "      background-color: #3B4455;\n",
              "      fill: #D2E3FC;\n",
              "    }\n",
              "\n",
              "    [theme=dark] .colab-df-convert:hover {\n",
              "      background-color: #434B5C;\n",
              "      box-shadow: 0px 1px 3px 1px rgba(0, 0, 0, 0.15);\n",
              "      filter: drop-shadow(0px 1px 2px rgba(0, 0, 0, 0.3));\n",
              "      fill: #FFFFFF;\n",
              "    }\n",
              "  </style>\n",
              "\n",
              "      <script>\n",
              "        const buttonEl =\n",
              "          document.querySelector('#df-0484e44b-8360-403d-bfbe-2b8b37c34eef button.colab-df-convert');\n",
              "        buttonEl.style.display =\n",
              "          google.colab.kernel.accessAllowed ? 'block' : 'none';\n",
              "\n",
              "        async function convertToInteractive(key) {\n",
              "          const element = document.querySelector('#df-0484e44b-8360-403d-bfbe-2b8b37c34eef');\n",
              "          const dataTable =\n",
              "            await google.colab.kernel.invokeFunction('convertToInteractive',\n",
              "                                                     [key], {});\n",
              "          if (!dataTable) return;\n",
              "\n",
              "          const docLinkHtml = 'Like what you see? Visit the ' +\n",
              "            '<a target=\"_blank\" href=https://colab.research.google.com/notebooks/data_table.ipynb>data table notebook</a>'\n",
              "            + ' to learn more about interactive tables.';\n",
              "          element.innerHTML = '';\n",
              "          dataTable['output_type'] = 'display_data';\n",
              "          await google.colab.output.renderOutput(dataTable, element);\n",
              "          const docLink = document.createElement('div');\n",
              "          docLink.innerHTML = docLinkHtml;\n",
              "          element.appendChild(docLink);\n",
              "        }\n",
              "      </script>\n",
              "    </div>\n",
              "  </div>\n",
              "  "
            ]
          },
          "metadata": {},
          "execution_count": 35
        }
      ]
    },
    {
      "cell_type": "code",
      "source": [
        "print(data['mainroad'].unique())\n",
        "print(data['guestroom'].unique())\n",
        "print(data['basement'].unique())\n",
        "print(data['hotwaterheating'].unique())\n",
        "print(data['airconditioning'].unique())\n",
        "print(data['furnishingstatus'].unique())"
      ],
      "metadata": {
        "colab": {
          "base_uri": "https://localhost:8080/"
        },
        "id": "N2jhlyyy_xR1",
        "outputId": "7315372f-7ea6-48b4-b345-5dbd71002848"
      },
      "execution_count": null,
      "outputs": [
        {
          "output_type": "stream",
          "name": "stdout",
          "text": [
            "['yes' 'no']\n",
            "['no' 'yes']\n",
            "['no' 'yes']\n",
            "['no' 'yes']\n",
            "['yes' 'no']\n",
            "['furnished' 'semi-furnished' 'unfurnished']\n"
          ]
        }
      ]
    },
    {
      "cell_type": "code",
      "source": [
        "mainroad_encoder=LabelEncoder()"
      ],
      "metadata": {
        "id": "SAlCiJ_KAwQE"
      },
      "execution_count": null,
      "outputs": []
    },
    {
      "cell_type": "code",
      "source": [
        "mainroad_encoder.fit(data_categorical['mainroad'])"
      ],
      "metadata": {
        "colab": {
          "base_uri": "https://localhost:8080/",
          "height": 74
        },
        "id": "Gge8Y6i5CCu9",
        "outputId": "0849156e-8e5f-45e0-8525-2c404fe779c9"
      },
      "execution_count": null,
      "outputs": [
        {
          "output_type": "execute_result",
          "data": {
            "text/plain": [
              "LabelEncoder()"
            ],
            "text/html": [
              "<style>#sk-container-id-1 {color: black;background-color: white;}#sk-container-id-1 pre{padding: 0;}#sk-container-id-1 div.sk-toggleable {background-color: white;}#sk-container-id-1 label.sk-toggleable__label {cursor: pointer;display: block;width: 100%;margin-bottom: 0;padding: 0.3em;box-sizing: border-box;text-align: center;}#sk-container-id-1 label.sk-toggleable__label-arrow:before {content: \"▸\";float: left;margin-right: 0.25em;color: #696969;}#sk-container-id-1 label.sk-toggleable__label-arrow:hover:before {color: black;}#sk-container-id-1 div.sk-estimator:hover label.sk-toggleable__label-arrow:before {color: black;}#sk-container-id-1 div.sk-toggleable__content {max-height: 0;max-width: 0;overflow: hidden;text-align: left;background-color: #f0f8ff;}#sk-container-id-1 div.sk-toggleable__content pre {margin: 0.2em;color: black;border-radius: 0.25em;background-color: #f0f8ff;}#sk-container-id-1 input.sk-toggleable__control:checked~div.sk-toggleable__content {max-height: 200px;max-width: 100%;overflow: auto;}#sk-container-id-1 input.sk-toggleable__control:checked~label.sk-toggleable__label-arrow:before {content: \"▾\";}#sk-container-id-1 div.sk-estimator input.sk-toggleable__control:checked~label.sk-toggleable__label {background-color: #d4ebff;}#sk-container-id-1 div.sk-label input.sk-toggleable__control:checked~label.sk-toggleable__label {background-color: #d4ebff;}#sk-container-id-1 input.sk-hidden--visually {border: 0;clip: rect(1px 1px 1px 1px);clip: rect(1px, 1px, 1px, 1px);height: 1px;margin: -1px;overflow: hidden;padding: 0;position: absolute;width: 1px;}#sk-container-id-1 div.sk-estimator {font-family: monospace;background-color: #f0f8ff;border: 1px dotted black;border-radius: 0.25em;box-sizing: border-box;margin-bottom: 0.5em;}#sk-container-id-1 div.sk-estimator:hover {background-color: #d4ebff;}#sk-container-id-1 div.sk-parallel-item::after {content: \"\";width: 100%;border-bottom: 1px solid gray;flex-grow: 1;}#sk-container-id-1 div.sk-label:hover label.sk-toggleable__label {background-color: #d4ebff;}#sk-container-id-1 div.sk-serial::before {content: \"\";position: absolute;border-left: 1px solid gray;box-sizing: border-box;top: 0;bottom: 0;left: 50%;z-index: 0;}#sk-container-id-1 div.sk-serial {display: flex;flex-direction: column;align-items: center;background-color: white;padding-right: 0.2em;padding-left: 0.2em;position: relative;}#sk-container-id-1 div.sk-item {position: relative;z-index: 1;}#sk-container-id-1 div.sk-parallel {display: flex;align-items: stretch;justify-content: center;background-color: white;position: relative;}#sk-container-id-1 div.sk-item::before, #sk-container-id-1 div.sk-parallel-item::before {content: \"\";position: absolute;border-left: 1px solid gray;box-sizing: border-box;top: 0;bottom: 0;left: 50%;z-index: -1;}#sk-container-id-1 div.sk-parallel-item {display: flex;flex-direction: column;z-index: 1;position: relative;background-color: white;}#sk-container-id-1 div.sk-parallel-item:first-child::after {align-self: flex-end;width: 50%;}#sk-container-id-1 div.sk-parallel-item:last-child::after {align-self: flex-start;width: 50%;}#sk-container-id-1 div.sk-parallel-item:only-child::after {width: 0;}#sk-container-id-1 div.sk-dashed-wrapped {border: 1px dashed gray;margin: 0 0.4em 0.5em 0.4em;box-sizing: border-box;padding-bottom: 0.4em;background-color: white;}#sk-container-id-1 div.sk-label label {font-family: monospace;font-weight: bold;display: inline-block;line-height: 1.2em;}#sk-container-id-1 div.sk-label-container {text-align: center;}#sk-container-id-1 div.sk-container {/* jupyter's `normalize.less` sets `[hidden] { display: none; }` but bootstrap.min.css set `[hidden] { display: none !important; }` so we also need the `!important` here to be able to override the default hidden behavior on the sphinx rendered scikit-learn.org. See: https://github.com/scikit-learn/scikit-learn/issues/21755 */display: inline-block !important;position: relative;}#sk-container-id-1 div.sk-text-repr-fallback {display: none;}</style><div id=\"sk-container-id-1\" class=\"sk-top-container\"><div class=\"sk-text-repr-fallback\"><pre>LabelEncoder()</pre><b>In a Jupyter environment, please rerun this cell to show the HTML representation or trust the notebook. <br />On GitHub, the HTML representation is unable to render, please try loading this page with nbviewer.org.</b></div><div class=\"sk-container\" hidden><div class=\"sk-item\"><div class=\"sk-estimator sk-toggleable\"><input class=\"sk-toggleable__control sk-hidden--visually\" id=\"sk-estimator-id-1\" type=\"checkbox\" checked><label for=\"sk-estimator-id-1\" class=\"sk-toggleable__label sk-toggleable__label-arrow\">LabelEncoder</label><div class=\"sk-toggleable__content\"><pre>LabelEncoder()</pre></div></div></div></div></div>"
            ]
          },
          "metadata": {},
          "execution_count": 38
        }
      ]
    },
    {
      "cell_type": "code",
      "source": [
        "mainroad_values=mainroad_encoder.transform(data_categorical['mainroad'])"
      ],
      "metadata": {
        "id": "vYhoAM3dCTU6"
      },
      "execution_count": null,
      "outputs": []
    },
    {
      "cell_type": "code",
      "source": [
        "print(\"Before encoding:\",list(data_categorical['mainroad'][-10:]))\n",
        "print(\"After Encoding:\",mainroad_values[-10:])\n",
        "print(\"The inverse from encoding result:\",mainroad_encoder.inverse_transform(mainroad_values[-10:]))"
      ],
      "metadata": {
        "colab": {
          "base_uri": "https://localhost:8080/"
        },
        "id": "109m5xRnCkAg",
        "outputId": "e6cf26f4-f691-4873-ae20-41c1cea0e860"
      },
      "execution_count": null,
      "outputs": [
        {
          "output_type": "stream",
          "name": "stdout",
          "text": [
            "Before encoding: ['yes', 'no', 'yes', 'yes', 'no', 'yes', 'no', 'yes', 'no', 'yes']\n",
            "After Encoding: [1 0 1 1 0 1 0 1 0 1]\n",
            "The inverse from encoding result: ['yes' 'no' 'yes' 'yes' 'no' 'yes' 'no' 'yes' 'no' 'yes']\n"
          ]
        }
      ]
    },
    {
      "cell_type": "markdown",
      "source": [
        "##8)Split the Data into dependent and independent variables##"
      ],
      "metadata": {
        "id": "otSAGcdPDVvV"
      }
    },
    {
      "cell_type": "code",
      "source": [
        "x=data.iloc[:,:-1].values\n",
        "print(x)"
      ],
      "metadata": {
        "colab": {
          "base_uri": "https://localhost:8080/"
        },
        "id": "2FxQKRV2DfgZ",
        "outputId": "aaf00ac0-7514-44ee-f716-2192f3fd054c"
      },
      "execution_count": null,
      "outputs": [
        {
          "output_type": "stream",
          "name": "stdout",
          "text": [
            "[[13300000 7420 4 ... 'no' 'yes' 2]\n",
            " [12250000 8960 4 ... 'no' 'yes' 3]\n",
            " [12250000 9960 3 ... 'no' 'no' 2]\n",
            " ...\n",
            " [1750000 3620 2 ... 'no' 'no' 0]\n",
            " [1750000 2910 3 ... 'no' 'no' 0]\n",
            " [1750000 3850 3 ... 'no' 'no' 0]]\n"
          ]
        }
      ]
    },
    {
      "cell_type": "code",
      "source": [
        "y=data.iloc[:,-1].values\n",
        "print(y)"
      ],
      "metadata": {
        "colab": {
          "base_uri": "https://localhost:8080/"
        },
        "id": "f6qCg87HEh0-",
        "outputId": "a1ad2922-b3f8-4d6e-c5e2-f401472cf433"
      },
      "execution_count": null,
      "outputs": [
        {
          "output_type": "stream",
          "name": "stdout",
          "text": [
            "['furnished' 'furnished' 'semi-furnished' 'furnished' 'furnished'\n",
            " 'semi-furnished' 'semi-furnished' 'unfurnished' 'furnished' 'unfurnished'\n",
            " 'furnished' 'semi-furnished' 'semi-furnished' 'furnished'\n",
            " 'semi-furnished' 'semi-furnished' 'unfurnished' 'furnished' 'furnished'\n",
            " 'semi-furnished' 'semi-furnished' 'unfurnished' 'furnished' 'furnished'\n",
            " 'furnished' 'furnished' 'semi-furnished' 'semi-furnished' 'unfurnished'\n",
            " 'semi-furnished' 'unfurnished' 'semi-furnished' 'furnished' 'unfurnished'\n",
            " 'furnished' 'furnished' 'furnished' 'furnished' 'unfurnished'\n",
            " 'semi-furnished' 'furnished' 'furnished' 'unfurnished' 'semi-furnished'\n",
            " 'furnished' 'semi-furnished' 'furnished' 'furnished' 'unfurnished'\n",
            " 'semi-furnished' 'unfurnished' 'unfurnished' 'furnished' 'semi-furnished'\n",
            " 'semi-furnished' 'unfurnished' 'semi-furnished' 'furnished'\n",
            " 'semi-furnished' 'furnished' 'semi-furnished' 'semi-furnished'\n",
            " 'furnished' 'furnished' 'furnished' 'furnished' 'furnished' 'unfurnished'\n",
            " 'furnished' 'furnished' 'semi-furnished' 'unfurnished' 'unfurnished'\n",
            " 'furnished' 'furnished' 'semi-furnished' 'furnished' 'furnished'\n",
            " 'furnished' 'furnished' 'semi-furnished' 'semi-furnished' 'furnished'\n",
            " 'semi-furnished' 'semi-furnished' 'furnished' 'unfurnished'\n",
            " 'semi-furnished' 'unfurnished' 'furnished' 'semi-furnished' 'furnished'\n",
            " 'furnished' 'semi-furnished' 'semi-furnished' 'semi-furnished'\n",
            " 'furnished' 'semi-furnished' 'unfurnished' 'unfurnished' 'unfurnished'\n",
            " 'unfurnished' 'semi-furnished' 'furnished' 'furnished' 'unfurnished'\n",
            " 'semi-furnished' 'unfurnished' 'semi-furnished' 'semi-furnished'\n",
            " 'semi-furnished' 'unfurnished' 'furnished' 'furnished' 'furnished'\n",
            " 'semi-furnished' 'unfurnished' 'furnished' 'furnished' 'semi-furnished'\n",
            " 'furnished' 'semi-furnished' 'semi-furnished' 'furnished' 'furnished'\n",
            " 'semi-furnished' 'unfurnished' 'unfurnished' 'furnished' 'semi-furnished'\n",
            " 'unfurnished' 'semi-furnished' 'semi-furnished' 'unfurnished'\n",
            " 'semi-furnished' 'unfurnished' 'unfurnished' 'semi-furnished'\n",
            " 'semi-furnished' 'furnished' 'unfurnished' 'semi-furnished'\n",
            " 'semi-furnished' 'unfurnished' 'furnished' 'furnished' 'semi-furnished'\n",
            " 'semi-furnished' 'semi-furnished' 'semi-furnished' 'unfurnished'\n",
            " 'semi-furnished' 'furnished' 'semi-furnished' 'semi-furnished'\n",
            " 'furnished' 'semi-furnished' 'furnished' 'semi-furnished' 'furnished'\n",
            " 'furnished' 'semi-furnished' 'semi-furnished' 'semi-furnished'\n",
            " 'furnished' 'unfurnished' 'unfurnished' 'semi-furnished' 'furnished'\n",
            " 'semi-furnished' 'semi-furnished' 'semi-furnished' 'unfurnished'\n",
            " 'unfurnished' 'unfurnished' 'semi-furnished' 'furnished' 'semi-furnished'\n",
            " 'semi-furnished' 'semi-furnished' 'semi-furnished' 'furnished'\n",
            " 'semi-furnished' 'semi-furnished' 'furnished' 'unfurnished' 'furnished'\n",
            " 'semi-furnished' 'unfurnished' 'semi-furnished' 'furnished'\n",
            " 'semi-furnished' 'furnished' 'semi-furnished' 'semi-furnished'\n",
            " 'semi-furnished' 'semi-furnished' 'semi-furnished' 'semi-furnished'\n",
            " 'furnished' 'semi-furnished' 'semi-furnished' 'semi-furnished'\n",
            " 'semi-furnished' 'semi-furnished' 'semi-furnished' 'semi-furnished'\n",
            " 'semi-furnished' 'semi-furnished' 'unfurnished' 'semi-furnished'\n",
            " 'furnished' 'semi-furnished' 'semi-furnished' 'unfurnished' 'unfurnished'\n",
            " 'semi-furnished' 'furnished' 'semi-furnished' 'unfurnished'\n",
            " 'semi-furnished' 'semi-furnished' 'semi-furnished' 'furnished'\n",
            " 'unfurnished' 'semi-furnished' 'semi-furnished' 'furnished'\n",
            " 'semi-furnished' 'semi-furnished' 'semi-furnished' 'semi-furnished'\n",
            " 'furnished' 'unfurnished' 'semi-furnished' 'semi-furnished'\n",
            " 'semi-furnished' 'semi-furnished' 'semi-furnished' 'furnished'\n",
            " 'semi-furnished' 'semi-furnished' 'furnished' 'furnished'\n",
            " 'semi-furnished' 'unfurnished' 'semi-furnished' 'unfurnished'\n",
            " 'semi-furnished' 'furnished' 'semi-furnished' 'semi-furnished'\n",
            " 'semi-furnished' 'furnished' 'semi-furnished' 'unfurnished' 'furnished'\n",
            " 'furnished' 'semi-furnished' 'furnished' 'furnished' 'semi-furnished'\n",
            " 'semi-furnished' 'semi-furnished' 'semi-furnished' 'semi-furnished'\n",
            " 'unfurnished' 'semi-furnished' 'semi-furnished' 'unfurnished' 'furnished'\n",
            " 'semi-furnished' 'semi-furnished' 'furnished' 'semi-furnished'\n",
            " 'furnished' 'semi-furnished' 'semi-furnished' 'semi-furnished'\n",
            " 'furnished' 'unfurnished' 'furnished' 'unfurnished' 'furnished'\n",
            " 'furnished' 'semi-furnished' 'furnished' 'unfurnished' 'unfurnished'\n",
            " 'semi-furnished' 'semi-furnished' 'unfurnished' 'semi-furnished'\n",
            " 'unfurnished' 'semi-furnished' 'semi-furnished' 'semi-furnished'\n",
            " 'unfurnished' 'semi-furnished' 'furnished' 'semi-furnished'\n",
            " 'semi-furnished' 'unfurnished' 'furnished' 'semi-furnished'\n",
            " 'semi-furnished' 'semi-furnished' 'semi-furnished' 'semi-furnished'\n",
            " 'semi-furnished' 'semi-furnished' 'semi-furnished' 'furnished'\n",
            " 'semi-furnished' 'semi-furnished' 'semi-furnished' 'unfurnished'\n",
            " 'unfurnished' 'semi-furnished' 'semi-furnished' 'furnished'\n",
            " 'semi-furnished' 'furnished' 'semi-furnished' 'semi-furnished'\n",
            " 'semi-furnished' 'unfurnished' 'semi-furnished' 'semi-furnished'\n",
            " 'furnished' 'unfurnished' 'furnished' 'semi-furnished' 'semi-furnished'\n",
            " 'furnished' 'furnished' 'semi-furnished' 'unfurnished' 'semi-furnished'\n",
            " 'furnished' 'semi-furnished' 'semi-furnished' 'furnished'\n",
            " 'semi-furnished' 'semi-furnished' 'semi-furnished' 'semi-furnished'\n",
            " 'unfurnished' 'semi-furnished' 'semi-furnished' 'semi-furnished'\n",
            " 'semi-furnished' 'unfurnished' 'furnished' 'furnished' 'furnished'\n",
            " 'furnished' 'furnished' 'semi-furnished' 'unfurnished' 'semi-furnished'\n",
            " 'semi-furnished' 'furnished' 'semi-furnished' 'semi-furnished'\n",
            " 'furnished' 'furnished' 'unfurnished' 'semi-furnished' 'furnished'\n",
            " 'semi-furnished' 'semi-furnished' 'semi-furnished' 'furnished'\n",
            " 'semi-furnished' 'unfurnished' 'semi-furnished' 'unfurnished'\n",
            " 'semi-furnished' 'unfurnished' 'semi-furnished' 'semi-furnished'\n",
            " 'furnished' 'furnished' 'furnished' 'unfurnished' 'unfurnished'\n",
            " 'semi-furnished' 'unfurnished' 'semi-furnished' 'unfurnished'\n",
            " 'semi-furnished' 'semi-furnished' 'unfurnished' 'unfurnished'\n",
            " 'unfurnished' 'semi-furnished' 'furnished' 'unfurnished' 'semi-furnished'\n",
            " 'unfurnished' 'unfurnished' 'unfurnished' 'unfurnished' 'unfurnished'\n",
            " 'unfurnished' 'unfurnished' 'furnished' 'unfurnished' 'unfurnished'\n",
            " 'unfurnished' 'furnished' 'unfurnished' 'unfurnished' 'unfurnished'\n",
            " 'furnished' 'unfurnished' 'furnished' 'unfurnished' 'semi-furnished'\n",
            " 'unfurnished' 'unfurnished' 'unfurnished' 'unfurnished' 'semi-furnished'\n",
            " 'furnished' 'furnished' 'furnished' 'unfurnished' 'unfurnished'\n",
            " 'unfurnished' 'unfurnished' 'furnished' 'semi-furnished' 'semi-furnished'\n",
            " 'unfurnished' 'furnished' 'unfurnished' 'semi-furnished' 'unfurnished'\n",
            " 'unfurnished' 'unfurnished' 'unfurnished' 'unfurnished' 'furnished'\n",
            " 'furnished' 'unfurnished' 'semi-furnished' 'semi-furnished' 'unfurnished'\n",
            " 'semi-furnished' 'semi-furnished' 'semi-furnished' 'unfurnished'\n",
            " 'unfurnished' 'unfurnished' 'semi-furnished' 'unfurnished' 'unfurnished'\n",
            " 'unfurnished' 'unfurnished' 'unfurnished' 'semi-furnished' 'unfurnished'\n",
            " 'semi-furnished' 'unfurnished' 'semi-furnished' 'semi-furnished'\n",
            " 'semi-furnished' 'furnished' 'unfurnished' 'unfurnished' 'semi-furnished'\n",
            " 'unfurnished' 'unfurnished' 'semi-furnished' 'unfurnished' 'unfurnished'\n",
            " 'unfurnished' 'unfurnished' 'semi-furnished' 'furnished' 'unfurnished'\n",
            " 'semi-furnished' 'unfurnished' 'unfurnished' 'semi-furnished'\n",
            " 'unfurnished' 'unfurnished' 'semi-furnished' 'unfurnished' 'furnished'\n",
            " 'unfurnished' 'furnished' 'unfurnished' 'unfurnished' 'unfurnished'\n",
            " 'unfurnished' 'semi-furnished' 'unfurnished' 'unfurnished' 'unfurnished'\n",
            " 'semi-furnished' 'semi-furnished' 'unfurnished' 'unfurnished'\n",
            " 'unfurnished' 'unfurnished' 'unfurnished' 'furnished' 'unfurnished'\n",
            " 'unfurnished' 'furnished' 'unfurnished' 'semi-furnished' 'unfurnished'\n",
            " 'unfurnished' 'unfurnished' 'unfurnished' 'unfurnished' 'unfurnished'\n",
            " 'unfurnished' 'furnished' 'furnished' 'unfurnished' 'unfurnished'\n",
            " 'unfurnished' 'semi-furnished' 'unfurnished' 'unfurnished' 'unfurnished'\n",
            " 'unfurnished' 'unfurnished' 'unfurnished' 'unfurnished' 'unfurnished'\n",
            " 'unfurnished' 'unfurnished' 'unfurnished' 'unfurnished' 'unfurnished'\n",
            " 'semi-furnished' 'unfurnished' 'furnished' 'unfurnished']\n"
          ]
        }
      ]
    },
    {
      "cell_type": "markdown",
      "source": [
        "##9)scale the Independent variables##"
      ],
      "metadata": {
        "id": "K_EUuHS4ExK6"
      }
    },
    {
      "cell_type": "code",
      "source": [
        "#INitialize the Scaler\n",
        "scaler=StandardScaler()\n"
      ],
      "metadata": {
        "id": "Nq9hooL8E56E"
      },
      "execution_count": null,
      "outputs": []
    },
    {
      "cell_type": "code",
      "source": [
        "#to scale data\n",
        "fig,ax=plt.subplots(figsize=(12,4))\n",
        " \n",
        "x_std=scaler.fit_transform(data_numeric)\n",
        "ax.hist(x_std[:,0])\n",
        "ax.hist(x_std[:,1])"
      ],
      "metadata": {
        "colab": {
          "base_uri": "https://localhost:8080/",
          "height": 400
        },
        "id": "qnqtTWj9Fz8p",
        "outputId": "3e774f38-9f46-408d-836b-4834a76acac0"
      },
      "execution_count": null,
      "outputs": [
        {
          "output_type": "execute_result",
          "data": {
            "text/plain": [
              "(array([ 25.,  74., 131.,  73.,  48., 106.,  37.,  27.,  17.,   7.]),\n",
              " array([-1.88592387, -1.41170136, -0.93747884, -0.46325633,  0.01096619,\n",
              "         0.48518871,  0.95941122,  1.43363374,  1.90785625,  2.38207877,\n",
              "         2.85630128]),\n",
              " <BarContainer object of 10 artists>)"
            ]
          },
          "metadata": {},
          "execution_count": 44
        },
        {
          "output_type": "display_data",
          "data": {
            "text/plain": [
              "<Figure size 1200x400 with 1 Axes>"
            ],
            "image/png": "[encoded data removed]"
          },
          "metadata": {}
        }
      ]
    },
    {
      "cell_type": "markdown",
      "source": [
        "##10)Split the Data into Training and Testing##"
      ],
      "metadata": {
        "id": "iAO8CwTyHlVD"
      }
    },
    {
      "cell_type": "code",
      "source": [
        "from sklearn.model_selection import train_test_split\n",
        "x_train,x_test,y_train,y_test=train_test_split(x,y,test_size=0.05,random_state=0)"
      ],
      "metadata": {
        "id": "nI5-RmwDHtAX"
      },
      "execution_count": null,
      "outputs": []
    },
    {
      "cell_type": "code",
      "source": [
        "x_train"
      ],
      "metadata": {
        "colab": {
          "base_uri": "https://localhost:8080/"
        },
        "id": "fAZKzzy1I2H5",
        "outputId": "2963dfcc-2a3a-4302-bac2-cba6305f4ac7"
      },
      "execution_count": null,
      "outputs": [
        {
          "output_type": "execute_result",
          "data": {
            "text/plain": [
              "array([[5530000, 3300, 3, ..., 'no', 'no', 0],\n",
              "       [5950000, 6420, 3, ..., 'no', 'yes', 0],\n",
              "       [4305000, 4400, 2, ..., 'no', 'no', 1],\n",
              "       ...,\n",
              "       [9800000, 5750, 3, ..., 'no', 'yes', 1],\n",
              "       [3710000, 3600, 3, ..., 'no', 'no', 1],\n",
              "       [5040000, 6600, 3, ..., 'no', 'no', 0]], dtype=object)"
            ]
          },
          "metadata": {},
          "execution_count": 46
        }
      ]
    },
    {
      "cell_type": "code",
      "source": [
        "y_train"
      ],
      "metadata": {
        "colab": {
          "base_uri": "https://localhost:8080/"
        },
        "id": "bpx0dIBkI505",
        "outputId": "82444e8f-9fc6-411f-8130-3b043c206244"
      },
      "execution_count": null,
      "outputs": [
        {
          "output_type": "execute_result",
          "data": {
            "text/plain": [
              "array(['semi-furnished', 'furnished', 'semi-furnished', 'semi-furnished',\n",
              "       'unfurnished', 'unfurnished', 'semi-furnished', 'semi-furnished',\n",
              "       'semi-furnished', 'semi-furnished', 'furnished', 'unfurnished',\n",
              "       'furnished', 'unfurnished', 'unfurnished', 'unfurnished',\n",
              "       'unfurnished', 'semi-furnished', 'unfurnished', 'unfurnished',\n",
              "       'semi-furnished', 'furnished', 'semi-furnished', 'semi-furnished',\n",
              "       'unfurnished', 'semi-furnished', 'unfurnished', 'unfurnished',\n",
              "       'furnished', 'semi-furnished', 'semi-furnished', 'unfurnished',\n",
              "       'furnished', 'semi-furnished', 'unfurnished', 'furnished',\n",
              "       'furnished', 'furnished', 'unfurnished', 'unfurnished',\n",
              "       'furnished', 'semi-furnished', 'furnished', 'semi-furnished',\n",
              "       'furnished', 'semi-furnished', 'semi-furnished', 'semi-furnished',\n",
              "       'unfurnished', 'furnished', 'furnished', 'semi-furnished',\n",
              "       'furnished', 'semi-furnished', 'semi-furnished', 'furnished',\n",
              "       'semi-furnished', 'semi-furnished', 'semi-furnished',\n",
              "       'semi-furnished', 'furnished', 'semi-furnished', 'unfurnished',\n",
              "       'furnished', 'furnished', 'semi-furnished', 'unfurnished',\n",
              "       'furnished', 'semi-furnished', 'semi-furnished', 'furnished',\n",
              "       'furnished', 'semi-furnished', 'semi-furnished', 'furnished',\n",
              "       'unfurnished', 'furnished', 'semi-furnished', 'semi-furnished',\n",
              "       'semi-furnished', 'furnished', 'unfurnished', 'unfurnished',\n",
              "       'unfurnished', 'unfurnished', 'semi-furnished', 'semi-furnished',\n",
              "       'semi-furnished', 'semi-furnished', 'unfurnished',\n",
              "       'semi-furnished', 'furnished', 'furnished', 'furnished',\n",
              "       'semi-furnished', 'semi-furnished', 'unfurnished', 'unfurnished',\n",
              "       'furnished', 'unfurnished', 'unfurnished', 'unfurnished',\n",
              "       'semi-furnished', 'furnished', 'semi-furnished', 'unfurnished',\n",
              "       'unfurnished', 'unfurnished', 'unfurnished', 'semi-furnished',\n",
              "       'unfurnished', 'unfurnished', 'semi-furnished', 'unfurnished',\n",
              "       'semi-furnished', 'semi-furnished', 'semi-furnished',\n",
              "       'unfurnished', 'semi-furnished', 'semi-furnished', 'unfurnished',\n",
              "       'semi-furnished', 'unfurnished', 'semi-furnished', 'unfurnished',\n",
              "       'semi-furnished', 'furnished', 'semi-furnished', 'semi-furnished',\n",
              "       'furnished', 'furnished', 'unfurnished', 'unfurnished',\n",
              "       'unfurnished', 'unfurnished', 'unfurnished', 'unfurnished',\n",
              "       'semi-furnished', 'semi-furnished', 'semi-furnished',\n",
              "       'semi-furnished', 'semi-furnished', 'unfurnished', 'furnished',\n",
              "       'semi-furnished', 'semi-furnished', 'furnished', 'furnished',\n",
              "       'unfurnished', 'unfurnished', 'unfurnished', 'unfurnished',\n",
              "       'semi-furnished', 'furnished', 'unfurnished', 'semi-furnished',\n",
              "       'semi-furnished', 'semi-furnished', 'semi-furnished',\n",
              "       'unfurnished', 'furnished', 'furnished', 'furnished',\n",
              "       'semi-furnished', 'furnished', 'unfurnished', 'furnished',\n",
              "       'furnished', 'semi-furnished', 'unfurnished', 'furnished',\n",
              "       'semi-furnished', 'furnished', 'unfurnished', 'furnished',\n",
              "       'furnished', 'unfurnished', 'semi-furnished', 'semi-furnished',\n",
              "       'semi-furnished', 'semi-furnished', 'unfurnished',\n",
              "       'semi-furnished', 'semi-furnished', 'furnished', 'furnished',\n",
              "       'semi-furnished', 'semi-furnished', 'unfurnished',\n",
              "       'semi-furnished', 'semi-furnished', 'semi-furnished',\n",
              "       'unfurnished', 'unfurnished', 'furnished', 'semi-furnished',\n",
              "       'unfurnished', 'furnished', 'unfurnished', 'semi-furnished',\n",
              "       'furnished', 'semi-furnished', 'unfurnished', 'furnished',\n",
              "       'semi-furnished', 'semi-furnished', 'unfurnished',\n",
              "       'semi-furnished', 'furnished', 'unfurnished', 'unfurnished',\n",
              "       'semi-furnished', 'semi-furnished', 'furnished', 'semi-furnished',\n",
              "       'unfurnished', 'semi-furnished', 'semi-furnished', 'unfurnished',\n",
              "       'semi-furnished', 'unfurnished', 'furnished', 'semi-furnished',\n",
              "       'unfurnished', 'furnished', 'furnished', 'furnished', 'furnished',\n",
              "       'unfurnished', 'furnished', 'unfurnished', 'furnished',\n",
              "       'semi-furnished', 'semi-furnished', 'furnished', 'semi-furnished',\n",
              "       'semi-furnished', 'furnished', 'unfurnished', 'semi-furnished',\n",
              "       'unfurnished', 'furnished', 'furnished', 'furnished',\n",
              "       'unfurnished', 'semi-furnished', 'semi-furnished', 'unfurnished',\n",
              "       'semi-furnished', 'semi-furnished', 'semi-furnished', 'furnished',\n",
              "       'unfurnished', 'furnished', 'furnished', 'semi-furnished',\n",
              "       'semi-furnished', 'semi-furnished', 'unfurnished', 'unfurnished',\n",
              "       'semi-furnished', 'semi-furnished', 'semi-furnished',\n",
              "       'semi-furnished', 'unfurnished', 'unfurnished', 'furnished',\n",
              "       'unfurnished', 'unfurnished', 'unfurnished', 'semi-furnished',\n",
              "       'furnished', 'semi-furnished', 'furnished', 'furnished',\n",
              "       'unfurnished', 'unfurnished', 'furnished', 'semi-furnished',\n",
              "       'unfurnished', 'unfurnished', 'furnished', 'semi-furnished',\n",
              "       'furnished', 'semi-furnished', 'semi-furnished', 'semi-furnished',\n",
              "       'unfurnished', 'unfurnished', 'semi-furnished', 'furnished',\n",
              "       'furnished', 'semi-furnished', 'semi-furnished', 'semi-furnished',\n",
              "       'semi-furnished', 'semi-furnished', 'unfurnished',\n",
              "       'semi-furnished', 'semi-furnished', 'furnished', 'unfurnished',\n",
              "       'unfurnished', 'furnished', 'unfurnished', 'unfurnished',\n",
              "       'semi-furnished', 'unfurnished', 'unfurnished', 'semi-furnished',\n",
              "       'semi-furnished', 'furnished', 'unfurnished', 'furnished',\n",
              "       'semi-furnished', 'semi-furnished', 'furnished', 'semi-furnished',\n",
              "       'unfurnished', 'unfurnished', 'unfurnished', 'furnished',\n",
              "       'furnished', 'semi-furnished', 'unfurnished', 'furnished',\n",
              "       'unfurnished', 'semi-furnished', 'semi-furnished', 'furnished',\n",
              "       'unfurnished', 'unfurnished', 'semi-furnished', 'semi-furnished',\n",
              "       'semi-furnished', 'unfurnished', 'semi-furnished',\n",
              "       'semi-furnished', 'furnished', 'furnished', 'semi-furnished',\n",
              "       'semi-furnished', 'furnished', 'unfurnished', 'unfurnished',\n",
              "       'furnished', 'semi-furnished', 'unfurnished', 'furnished',\n",
              "       'semi-furnished', 'furnished', 'unfurnished', 'unfurnished',\n",
              "       'unfurnished', 'semi-furnished', 'unfurnished', 'semi-furnished',\n",
              "       'unfurnished', 'unfurnished', 'semi-furnished', 'semi-furnished',\n",
              "       'semi-furnished', 'unfurnished', 'unfurnished', 'semi-furnished',\n",
              "       'semi-furnished', 'unfurnished', 'furnished', 'unfurnished',\n",
              "       'semi-furnished', 'unfurnished', 'furnished', 'furnished',\n",
              "       'furnished', 'semi-furnished', 'semi-furnished', 'unfurnished',\n",
              "       'furnished', 'semi-furnished', 'unfurnished', 'semi-furnished',\n",
              "       'furnished', 'semi-furnished', 'semi-furnished', 'semi-furnished',\n",
              "       'semi-furnished', 'semi-furnished', 'unfurnished', 'unfurnished',\n",
              "       'unfurnished', 'furnished', 'semi-furnished', 'semi-furnished',\n",
              "       'furnished', 'furnished', 'furnished', 'unfurnished',\n",
              "       'unfurnished', 'unfurnished', 'unfurnished', 'unfurnished',\n",
              "       'furnished', 'semi-furnished', 'semi-furnished', 'furnished',\n",
              "       'unfurnished', 'unfurnished', 'unfurnished', 'semi-furnished',\n",
              "       'furnished', 'unfurnished', 'semi-furnished', 'semi-furnished',\n",
              "       'unfurnished', 'furnished', 'furnished', 'semi-furnished',\n",
              "       'unfurnished', 'semi-furnished', 'furnished', 'unfurnished',\n",
              "       'semi-furnished', 'semi-furnished', 'semi-furnished',\n",
              "       'unfurnished', 'semi-furnished', 'semi-furnished', 'furnished',\n",
              "       'furnished', 'semi-furnished', 'semi-furnished', 'semi-furnished',\n",
              "       'unfurnished', 'semi-furnished', 'semi-furnished', 'furnished',\n",
              "       'semi-furnished', 'unfurnished', 'semi-furnished', 'furnished',\n",
              "       'furnished', 'semi-furnished', 'furnished', 'unfurnished',\n",
              "       'furnished', 'semi-furnished', 'unfurnished', 'furnished',\n",
              "       'semi-furnished', 'furnished', 'unfurnished', 'semi-furnished',\n",
              "       'unfurnished', 'furnished', 'semi-furnished', 'semi-furnished',\n",
              "       'semi-furnished', 'semi-furnished', 'semi-furnished', 'furnished',\n",
              "       'semi-furnished', 'unfurnished', 'unfurnished', 'unfurnished',\n",
              "       'unfurnished', 'furnished', 'furnished', 'furnished',\n",
              "       'unfurnished', 'semi-furnished', 'semi-furnished',\n",
              "       'semi-furnished', 'unfurnished', 'furnished', 'furnished',\n",
              "       'unfurnished', 'semi-furnished', 'furnished', 'semi-furnished',\n",
              "       'semi-furnished', 'unfurnished', 'unfurnished', 'unfurnished',\n",
              "       'unfurnished', 'furnished', 'furnished', 'unfurnished',\n",
              "       'semi-furnished', 'unfurnished', 'furnished', 'unfurnished',\n",
              "       'semi-furnished', 'unfurnished', 'unfurnished', 'semi-furnished',\n",
              "       'semi-furnished', 'semi-furnished', 'unfurnished', 'unfurnished',\n",
              "       'semi-furnished', 'semi-furnished', 'unfurnished',\n",
              "       'semi-furnished', 'unfurnished', 'semi-furnished', 'unfurnished',\n",
              "       'unfurnished', 'semi-furnished', 'semi-furnished',\n",
              "       'semi-furnished', 'semi-furnished', 'semi-furnished',\n",
              "       'semi-furnished', 'semi-furnished', 'unfurnished', 'unfurnished',\n",
              "       'furnished'], dtype=object)"
            ]
          },
          "metadata": {},
          "execution_count": 47
        }
      ]
    },
    {
      "cell_type": "code",
      "source": [
        "x_test"
      ],
      "metadata": {
        "colab": {
          "base_uri": "https://localhost:8080/"
        },
        "id": "YzMqt4w8I9Q8",
        "outputId": "5a1e2ecb-7ef1-4772-dee8-b973dfb75796"
      },
      "execution_count": null,
      "outputs": [
        {
          "output_type": "execute_result",
          "data": {
            "text/plain": [
              "array([[4585000, 4000, 3, 1, 2, 'yes', 'no', 'no', 'no', 'no', 1],\n",
              "       [6083000, 9620, 3, 1, 1, 'yes', 'no', 'yes', 'no', 'no', 2],\n",
              "       [4007500, 3460, 4, 1, 2, 'yes', 'no', 'no', 'no', 'yes', 0],\n",
              "       [6930000, 6000, 2, 1, 1, 'yes', 'no', 'yes', 'yes', 'no', 1],\n",
              "       [2940000, 3660, 4, 1, 2, 'no', 'no', 'no', 'no', 'no', 0],\n",
              "       [6195000, 6350, 3, 2, 3, 'yes', 'yes', 'no', 'no', 'yes', 0],\n",
              "       [3535000, 3850, 3, 1, 1, 'yes', 'no', 'no', 'no', 'no', 2],\n",
              "       [2940000, 3480, 3, 1, 2, 'no', 'no', 'no', 'no', 'no', 1],\n",
              "       [3500000, 3512, 2, 1, 1, 'yes', 'no', 'no', 'no', 'no', 1],\n",
              "       [7980000, 9000, 4, 2, 4, 'yes', 'no', 'no', 'no', 'yes', 2],\n",
              "       [6755000, 6000, 4, 2, 4, 'yes', 'no', 'no', 'no', 'yes', 0],\n",
              "       [3990000, 3960, 3, 1, 2, 'yes', 'no', 'no', 'no', 'no', 0],\n",
              "       [3150000, 3450, 3, 1, 2, 'yes', 'no', 'yes', 'no', 'no', 0],\n",
              "       [3290000, 6060, 3, 1, 1, 'yes', 'yes', 'yes', 'no', 'no', 0],\n",
              "       [4130000, 5985, 3, 1, 1, 'yes', 'no', 'yes', 'no', 'no', 0],\n",
              "       [2660000, 2430, 3, 1, 1, 'no', 'no', 'no', 'no', 'no', 0],\n",
              "       [4410000, 4900, 2, 1, 2, 'yes', 'no', 'yes', 'no', 'no', 0],\n",
              "       [3710000, 6020, 3, 1, 1, 'yes', 'no', 'no', 'no', 'no', 0],\n",
              "       [3360000, 3100, 3, 1, 2, 'no', 'no', 'yes', 'no', 'no', 0],\n",
              "       [4270000, 4500, 2, 1, 1, 'yes', 'no', 'no', 'no', 'yes', 2],\n",
              "       [5005000, 8150, 3, 2, 1, 'yes', 'yes', 'yes', 'no', 'no', 0],\n",
              "       [5383000, 6450, 3, 2, 1, 'yes', 'yes', 'yes', 'yes', 'no', 0],\n",
              "       [6440000, 5000, 3, 1, 2, 'yes', 'no', 'no', 'no', 'yes', 0],\n",
              "       [1890000, 1700, 3, 1, 2, 'yes', 'no', 'no', 'no', 'no', 0],\n",
              "       [6125000, 6420, 3, 1, 3, 'yes', 'no', 'yes', 'no', 'no', 0],\n",
              "       [5460000, 3150, 3, 2, 1, 'yes', 'yes', 'yes', 'no', 'yes', 0],\n",
              "       [5803000, 7000, 3, 1, 1, 'yes', 'no', 'yes', 'no', 'no', 2],\n",
              "       [4620000, 5680, 3, 1, 2, 'yes', 'yes', 'no', 'no', 'yes', 1]],\n",
              "      dtype=object)"
            ]
          },
          "metadata": {},
          "execution_count": 48
        }
      ]
    },
    {
      "cell_type": "code",
      "source": [
        "print(x_test.shape)\n",
        "print(x_train.shape)\n",
        "print(y_test.shape)\n",
        "print(y_train.shape)"
      ],
      "metadata": {
        "colab": {
          "base_uri": "https://localhost:8080/"
        },
        "id": "cG_MUdOIJCtD",
        "outputId": "afc01cfb-0fcd-4e52-cb90-83b4aac8baae"
      },
      "execution_count": null,
      "outputs": [
        {
          "output_type": "stream",
          "name": "stdout",
          "text": [
            "(28, 11)\n",
            "(517, 11)\n",
            "(28,)\n",
            "(517,)\n"
          ]
        }
      ]
    },
    {
      "cell_type": "markdown",
      "source": [
        "##11)Build the model##"
      ],
      "metadata": {
        "id": "s33LCUfcJdGm"
      }
    },
    {
      "cell_type": "code",
      "source": [
        "data[['mainroad','guestroom','basement','hotwaterheating','airconditioning','furnishingstatus']] =data[['mainroad','guestroom','basement','hotwaterheating','airconditioning','furnishingstatus']].astype('category')\n"
      ],
      "metadata": {
        "id": "h33W7808S_2e"
      },
      "execution_count": null,
      "outputs": []
    },
    {
      "cell_type": "code",
      "source": [
        "data.dtypes"
      ],
      "metadata": {
        "colab": {
          "base_uri": "https://localhost:8080/"
        },
        "id": "vzEwXlrPTaBt",
        "outputId": "af75f7b3-0ade-47e7-8ccf-4c5f420da976"
      },
      "execution_count": null,
      "outputs": [
        {
          "output_type": "execute_result",
          "data": {
            "text/plain": [
              "price                  int64\n",
              "area                   int64\n",
              "bedrooms               int64\n",
              "bathrooms              int64\n",
              "stories                int64\n",
              "mainroad            category\n",
              "guestroom           category\n",
              "basement            category\n",
              "hotwaterheating     category\n",
              "airconditioning     category\n",
              "parking                int64\n",
              "furnishingstatus    category\n",
              "dtype: object"
            ]
          },
          "metadata": {},
          "execution_count": 51
        }
      ]
    },
    {
      "cell_type": "code",
      "source": [
        "X= data[['area', 'bedrooms', 'bathrooms','stories','parking']]  \n",
        "Y= data[['price']]"
      ],
      "metadata": {
        "id": "J8QYjYPrm89J",
        "colab": {
          "base_uri": "https://localhost:8080/",
          "height": 182
        },
        "outputId": "889eae8b-1bcb-4677-844b-ff29bb8793df"
      },
      "execution_count": null,
      "outputs": [
        {
          "output_type": "error",
          "ename": "NameError",
          "evalue": "ignored",
          "traceback": [
            "\u001b[0;31m---------------------------------------------------------------------------\u001b[0m",
            "\u001b[0;31mNameError\u001b[0m                                 Traceback (most recent call last)",
            "\u001b[0;32m<ipython-input-2-6fc8ea2d0ace>\u001b[0m in \u001b[0;36m<cell line: 1>\u001b[0;34m()\u001b[0m\n\u001b[0;32m----> 1\u001b[0;31m \u001b[0mX\u001b[0m\u001b[0;34m=\u001b[0m \u001b[0mdata\u001b[0m\u001b[0;34m[\u001b[0m\u001b[0;34m[\u001b[0m\u001b[0;34m'area'\u001b[0m\u001b[0;34m,\u001b[0m \u001b[0;34m'bedrooms'\u001b[0m\u001b[0;34m,\u001b[0m \u001b[0;34m'bathrooms'\u001b[0m\u001b[0;34m,\u001b[0m\u001b[0;34m'stories'\u001b[0m\u001b[0;34m,\u001b[0m\u001b[0;34m'parking'\u001b[0m\u001b[0;34m]\u001b[0m\u001b[0;34m]\u001b[0m\u001b[0;34m\u001b[0m\u001b[0;34m\u001b[0m\u001b[0m\n\u001b[0m\u001b[1;32m      2\u001b[0m \u001b[0mY\u001b[0m\u001b[0;34m=\u001b[0m \u001b[0mdata\u001b[0m\u001b[0;34m[\u001b[0m\u001b[0;34m[\u001b[0m\u001b[0;34m'price'\u001b[0m\u001b[0;34m]\u001b[0m\u001b[0;34m]\u001b[0m\u001b[0;34m\u001b[0m\u001b[0;34m\u001b[0m\u001b[0m\n",
            "\u001b[0;31mNameError\u001b[0m: name 'data' is not defined"
          ]
        }
      ]
    },
    {
      "cell_type": "code",
      "source": [
        "X_train,X_test,y_train,y_test=train_test_split(X,Y,test_size=0.4,random_state=100)"
      ],
      "metadata": {
        "id": "IudipCzKnuxc"
      },
      "execution_count": null,
      "outputs": []
    },
    {
      "cell_type": "code",
      "source": [
        "logreg= LogisticRegression()\n",
        "logreg.fit(X_train,y_train)"
      ],
      "metadata": {
        "colab": {
          "base_uri": "https://localhost:8080/",
          "height": 277
        },
        "id": "Ez6fwWVFn2qL",
        "outputId": "3be2a8c2-a782-47ed-f65b-cb61207c1b2d"
      },
      "execution_count": null,
      "outputs": [
        {
          "output_type": "stream",
          "name": "stderr",
          "text": [
            "/usr/local/lib/python3.10/dist-packages/sklearn/utils/validation.py:1143: DataConversionWarning: A column-vector y was passed when a 1d array was expected. Please change the shape of y to (n_samples, ), for example using ravel().\n",
            "  y = column_or_1d(y, warn=True)\n",
            "/usr/local/lib/python3.10/dist-packages/sklearn/linear_model/_logistic.py:458: ConvergenceWarning: lbfgs failed to converge (status=1):\n",
            "STOP: TOTAL NO. of ITERATIONS REACHED LIMIT.\n",
            "\n",
            "Increase the number of iterations (max_iter) or scale the data as shown in:\n",
            "    https://scikit-learn.org/stable/modules/preprocessing.html\n",
            "Please also refer to the documentation for alternative solver options:\n",
            "    https://scikit-learn.org/stable/modules/linear_model.html#logistic-regression\n",
            "  n_iter_i = _check_optimize_result(\n"
          ]
        },
        {
          "output_type": "execute_result",
          "data": {
            "text/plain": [
              "LogisticRegression()"
            ],
            "text/html": [
              "<style>#sk-container-id-2 {color: black;background-color: white;}#sk-container-id-2 pre{padding: 0;}#sk-container-id-2 div.sk-toggleable {background-color: white;}#sk-container-id-2 label.sk-toggleable__label {cursor: pointer;display: block;width: 100%;margin-bottom: 0;padding: 0.3em;box-sizing: border-box;text-align: center;}#sk-container-id-2 label.sk-toggleable__label-arrow:before {content: \"▸\";float: left;margin-right: 0.25em;color: #696969;}#sk-container-id-2 label.sk-toggleable__label-arrow:hover:before {color: black;}#sk-container-id-2 div.sk-estimator:hover label.sk-toggleable__label-arrow:before {color: black;}#sk-container-id-2 div.sk-toggleable__content {max-height: 0;max-width: 0;overflow: hidden;text-align: left;background-color: #f0f8ff;}#sk-container-id-2 div.sk-toggleable__content pre {margin: 0.2em;color: black;border-radius: 0.25em;background-color: #f0f8ff;}#sk-container-id-2 input.sk-toggleable__control:checked~div.sk-toggleable__content {max-height: 200px;max-width: 100%;overflow: auto;}#sk-container-id-2 input.sk-toggleable__control:checked~label.sk-toggleable__label-arrow:before {content: \"▾\";}#sk-container-id-2 div.sk-estimator input.sk-toggleable__control:checked~label.sk-toggleable__label {background-color: #d4ebff;}#sk-container-id-2 div.sk-label input.sk-toggleable__control:checked~label.sk-toggleable__label {background-color: #d4ebff;}#sk-container-id-2 input.sk-hidden--visually {border: 0;clip: rect(1px 1px 1px 1px);clip: rect(1px, 1px, 1px, 1px);height: 1px;margin: -1px;overflow: hidden;padding: 0;position: absolute;width: 1px;}#sk-container-id-2 div.sk-estimator {font-family: monospace;background-color: #f0f8ff;border: 1px dotted black;border-radius: 0.25em;box-sizing: border-box;margin-bottom: 0.5em;}#sk-container-id-2 div.sk-estimator:hover {background-color: #d4ebff;}#sk-container-id-2 div.sk-parallel-item::after {content: \"\";width: 100%;border-bottom: 1px solid gray;flex-grow: 1;}#sk-container-id-2 div.sk-label:hover label.sk-toggleable__label {background-color: #d4ebff;}#sk-container-id-2 div.sk-serial::before {content: \"\";position: absolute;border-left: 1px solid gray;box-sizing: border-box;top: 0;bottom: 0;left: 50%;z-index: 0;}#sk-container-id-2 div.sk-serial {display: flex;flex-direction: column;align-items: center;background-color: white;padding-right: 0.2em;padding-left: 0.2em;position: relative;}#sk-container-id-2 div.sk-item {position: relative;z-index: 1;}#sk-container-id-2 div.sk-parallel {display: flex;align-items: stretch;justify-content: center;background-color: white;position: relative;}#sk-container-id-2 div.sk-item::before, #sk-container-id-2 div.sk-parallel-item::before {content: \"\";position: absolute;border-left: 1px solid gray;box-sizing: border-box;top: 0;bottom: 0;left: 50%;z-index: -1;}#sk-container-id-2 div.sk-parallel-item {display: flex;flex-direction: column;z-index: 1;position: relative;background-color: white;}#sk-container-id-2 div.sk-parallel-item:first-child::after {align-self: flex-end;width: 50%;}#sk-container-id-2 div.sk-parallel-item:last-child::after {align-self: flex-start;width: 50%;}#sk-container-id-2 div.sk-parallel-item:only-child::after {width: 0;}#sk-container-id-2 div.sk-dashed-wrapped {border: 1px dashed gray;margin: 0 0.4em 0.5em 0.4em;box-sizing: border-box;padding-bottom: 0.4em;background-color: white;}#sk-container-id-2 div.sk-label label {font-family: monospace;font-weight: bold;display: inline-block;line-height: 1.2em;}#sk-container-id-2 div.sk-label-container {text-align: center;}#sk-container-id-2 div.sk-container {/* jupyter's `normalize.less` sets `[hidden] { display: none; }` but bootstrap.min.css set `[hidden] { display: none !important; }` so we also need the `!important` here to be able to override the default hidden behavior on the sphinx rendered scikit-learn.org. See: https://github.com/scikit-learn/scikit-learn/issues/21755 */display: inline-block !important;position: relative;}#sk-container-id-2 div.sk-text-repr-fallback {display: none;}</style><div id=\"sk-container-id-2\" class=\"sk-top-container\"><div class=\"sk-text-repr-fallback\"><pre>LogisticRegression()</pre><b>In a Jupyter environment, please rerun this cell to show the HTML representation or trust the notebook. <br />On GitHub, the HTML representation is unable to render, please try loading this page with nbviewer.org.</b></div><div class=\"sk-container\" hidden><div class=\"sk-item\"><div class=\"sk-estimator sk-toggleable\"><input class=\"sk-toggleable__control sk-hidden--visually\" id=\"sk-estimator-id-2\" type=\"checkbox\" checked><label for=\"sk-estimator-id-2\" class=\"sk-toggleable__label sk-toggleable__label-arrow\">LogisticRegression</label><div class=\"sk-toggleable__content\"><pre>LogisticRegression()</pre></div></div></div></div></div>"
            ]
          },
          "metadata": {},
          "execution_count": 60
        }
      ]
    },
    {
      "cell_type": "code",
      "source": [
        "y_pred=logreg.predict(X_test)\n",
        "print (X_test) #test dataset\n",
        "print (y_pred) #predicted values"
      ],
      "metadata": {
        "colab": {
          "base_uri": "https://localhost:8080/"
        },
        "id": "qZ-r5f78n6E7",
        "outputId": "ce331aa2-425a-4685-84d2-f8e8196767a6"
      },
      "execution_count": null,
      "outputs": [
        {
          "output_type": "stream",
          "name": "stdout",
          "text": [
            "     area  bedrooms  bathrooms  stories  parking\n",
            "265  2880         3          1        2        0\n",
            "54   6000         3          2        2        1\n",
            "171  6000         3          1        1        1\n",
            "244  5320         3          1        2        0\n",
            "268  4950         4          1        2        0\n",
            "..    ...       ...        ...      ...      ...\n",
            "330  4050         2          1        2        0\n",
            "425  3185         2          1        1        2\n",
            "209  6720         3          1        1        0\n",
            "485  3630         2          1        1        0\n",
            "518  3500         2          1        1        0\n",
            "\n",
            "[218 rows x 5 columns]\n",
            "[4200000 3500000 5250000 3500000 3500000 3500000 3500000 3500000 4270000\n",
            " 5250000 4270000 5250000 4200000 5250000 3500000 4200000 3920000 3920000\n",
            " 4270000 4200000 3500000 3500000 4200000 4270000 3500000 3500000 4200000\n",
            " 3920000 5250000 3500000 4200000 3500000 4270000 3500000 5250000 3500000\n",
            " 4200000 3500000 3500000 3500000 3500000 4200000 3500000 4200000 4200000\n",
            " 4270000 3500000 3640000 4270000 4270000 3500000 5600000 3500000 5600000\n",
            " 6650000 4270000 5250000 3500000 3500000 3500000 4200000 4200000 3500000\n",
            " 6650000 4200000 4270000 3500000 4270000 4200000 3500000 3500000 3500000\n",
            " 4900000 3500000 5250000 4200000 3500000 5600000 6300000 3500000 5600000\n",
            " 4200000 3500000 4200000 4270000 3500000 3500000 5600000 3500000 3500000\n",
            " 4270000 3500000 4025000 4025000 4270000 3500000 3500000 3500000 5600000\n",
            " 4200000 3500000 3500000 4270000 3500000 4270000 4900000 4200000 5600000\n",
            " 5600000 5950000 5600000 4760000 4270000 4200000 3500000 6300000 4270000\n",
            " 4200000 3500000 4200000 4200000 4200000 4200000 5600000 4900000 4200000\n",
            " 4270000 4200000 3640000 4200000 4900000 4270000 4200000 5250000 4200000\n",
            " 5950000 3500000 4200000 3500000 3640000 4200000 3500000 5600000 4760000\n",
            " 3500000 3500000 3500000 4200000 5250000 3500000 6650000 4270000 3500000\n",
            " 4200000 4760000 4200000 4200000 4760000 5600000 4200000 3500000 3500000\n",
            " 5600000 6650000 3500000 5250000 4200000 6300000 3500000 3500000 3500000\n",
            " 4200000 5250000 4200000 4200000 4270000 3640000 4270000 4550000 4760000\n",
            " 4200000 5250000 3920000 3500000 5250000 3500000 3500000 5600000 4760000\n",
            " 3500000 4270000 4270000 4200000 3920000 4270000 4200000 4270000 3500000\n",
            " 5250000 3500000 3500000 3500000 4200000 3500000 5250000 3500000 5250000\n",
            " 3920000 4200000 4760000 4270000 6650000 6300000 5600000 4025000 4270000\n",
            " 3500000 3500000]\n"
          ]
        }
      ]
    },
    {
      "cell_type": "markdown",
      "source": [
        "##12)Train the Model##"
      ],
      "metadata": {
        "id": "lyzzffQ8Rats"
      }
    },
    {
      "cell_type": "code",
      "source": [
        "\n",
        "from sklearn.linear_model import LinearRegression\n",
        "model = LinearRegression()"
      ],
      "metadata": {
        "id": "8nhyw-NwRjdf"
      },
      "execution_count": null,
      "outputs": []
    },
    {
      "cell_type": "code",
      "source": [
        "model.fit(X_train, y_train)\n"
      ],
      "metadata": {
        "colab": {
          "base_uri": "https://localhost:8080/",
          "height": 74
        },
        "id": "OX9GQKxErCdj",
        "outputId": "4d40dc19-b885-4e15-8d18-a340826eb2dc"
      },
      "execution_count": null,
      "outputs": [
        {
          "output_type": "execute_result",
          "data": {
            "text/plain": [
              "LinearRegression()"
            ],
            "text/html": [
              "<style>#sk-container-id-3 {color: black;background-color: white;}#sk-container-id-3 pre{padding: 0;}#sk-container-id-3 div.sk-toggleable {background-color: white;}#sk-container-id-3 label.sk-toggleable__label {cursor: pointer;display: block;width: 100%;margin-bottom: 0;padding: 0.3em;box-sizing: border-box;text-align: center;}#sk-container-id-3 label.sk-toggleable__label-arrow:before {content: \"▸\";float: left;margin-right: 0.25em;color: #696969;}#sk-container-id-3 label.sk-toggleable__label-arrow:hover:before {color: black;}#sk-container-id-3 div.sk-estimator:hover label.sk-toggleable__label-arrow:before {color: black;}#sk-container-id-3 div.sk-toggleable__content {max-height: 0;max-width: 0;overflow: hidden;text-align: left;background-color: #f0f8ff;}#sk-container-id-3 div.sk-toggleable__content pre {margin: 0.2em;color: black;border-radius: 0.25em;background-color: #f0f8ff;}#sk-container-id-3 input.sk-toggleable__control:checked~div.sk-toggleable__content {max-height: 200px;max-width: 100%;overflow: auto;}#sk-container-id-3 input.sk-toggleable__control:checked~label.sk-toggleable__label-arrow:before {content: \"▾\";}#sk-container-id-3 div.sk-estimator input.sk-toggleable__control:checked~label.sk-toggleable__label {background-color: #d4ebff;}#sk-container-id-3 div.sk-label input.sk-toggleable__control:checked~label.sk-toggleable__label {background-color: #d4ebff;}#sk-container-id-3 input.sk-hidden--visually {border: 0;clip: rect(1px 1px 1px 1px);clip: rect(1px, 1px, 1px, 1px);height: 1px;margin: -1px;overflow: hidden;padding: 0;position: absolute;width: 1px;}#sk-container-id-3 div.sk-estimator {font-family: monospace;background-color: #f0f8ff;border: 1px dotted black;border-radius: 0.25em;box-sizing: border-box;margin-bottom: 0.5em;}#sk-container-id-3 div.sk-estimator:hover {background-color: #d4ebff;}#sk-container-id-3 div.sk-parallel-item::after {content: \"\";width: 100%;border-bottom: 1px solid gray;flex-grow: 1;}#sk-container-id-3 div.sk-label:hover label.sk-toggleable__label {background-color: #d4ebff;}#sk-container-id-3 div.sk-serial::before {content: \"\";position: absolute;border-left: 1px solid gray;box-sizing: border-box;top: 0;bottom: 0;left: 50%;z-index: 0;}#sk-container-id-3 div.sk-serial {display: flex;flex-direction: column;align-items: center;background-color: white;padding-right: 0.2em;padding-left: 0.2em;position: relative;}#sk-container-id-3 div.sk-item {position: relative;z-index: 1;}#sk-container-id-3 div.sk-parallel {display: flex;align-items: stretch;justify-content: center;background-color: white;position: relative;}#sk-container-id-3 div.sk-item::before, #sk-container-id-3 div.sk-parallel-item::before {content: \"\";position: absolute;border-left: 1px solid gray;box-sizing: border-box;top: 0;bottom: 0;left: 50%;z-index: -1;}#sk-container-id-3 div.sk-parallel-item {display: flex;flex-direction: column;z-index: 1;position: relative;background-color: white;}#sk-container-id-3 div.sk-parallel-item:first-child::after {align-self: flex-end;width: 50%;}#sk-container-id-3 div.sk-parallel-item:last-child::after {align-self: flex-start;width: 50%;}#sk-container-id-3 div.sk-parallel-item:only-child::after {width: 0;}#sk-container-id-3 div.sk-dashed-wrapped {border: 1px dashed gray;margin: 0 0.4em 0.5em 0.4em;box-sizing: border-box;padding-bottom: 0.4em;background-color: white;}#sk-container-id-3 div.sk-label label {font-family: monospace;font-weight: bold;display: inline-block;line-height: 1.2em;}#sk-container-id-3 div.sk-label-container {text-align: center;}#sk-container-id-3 div.sk-container {/* jupyter's `normalize.less` sets `[hidden] { display: none; }` but bootstrap.min.css set `[hidden] { display: none !important; }` so we also need the `!important` here to be able to override the default hidden behavior on the sphinx rendered scikit-learn.org. See: https://github.com/scikit-learn/scikit-learn/issues/21755 */display: inline-block !important;position: relative;}#sk-container-id-3 div.sk-text-repr-fallback {display: none;}</style><div id=\"sk-container-id-3\" class=\"sk-top-container\"><div class=\"sk-text-repr-fallback\"><pre>LinearRegression()</pre><b>In a Jupyter environment, please rerun this cell to show the HTML representation or trust the notebook. <br />On GitHub, the HTML representation is unable to render, please try loading this page with nbviewer.org.</b></div><div class=\"sk-container\" hidden><div class=\"sk-item\"><div class=\"sk-estimator sk-toggleable\"><input class=\"sk-toggleable__control sk-hidden--visually\" id=\"sk-estimator-id-3\" type=\"checkbox\" checked><label for=\"sk-estimator-id-3\" class=\"sk-toggleable__label sk-toggleable__label-arrow\">LinearRegression</label><div class=\"sk-toggleable__content\"><pre>LinearRegression()</pre></div></div></div></div></div>"
            ]
          },
          "metadata": {},
          "execution_count": 64
        }
      ]
    },
    {
      "cell_type": "code",
      "source": [
        "print(model.coef_)"
      ],
      "metadata": {
        "colab": {
          "base_uri": "https://localhost:8080/"
        },
        "id": "9Df8061irKdg",
        "outputId": "a148c9ad-1858-43b9-9e1c-8679960b78c5"
      },
      "execution_count": null,
      "outputs": [
        {
          "output_type": "stream",
          "name": "stdout",
          "text": [
            "[[4.46857787e+02 1.21778617e+05 1.02466483e+06 5.47404086e+05\n",
            "  2.92749451e+05]]\n"
          ]
        }
      ]
    },
    {
      "cell_type": "code",
      "source": [
        "print(model.intercept_)"
      ],
      "metadata": {
        "colab": {
          "base_uri": "https://localhost:8080/"
        },
        "id": "GcFlECynuWGn",
        "outputId": "708b69ba-8bc3-4043-ae71-d8a368f40c96"
      },
      "execution_count": null,
      "outputs": [
        {
          "output_type": "stream",
          "name": "stdout",
          "text": [
            "[-324778.26041629]\n"
          ]
        }
      ]
    },
    {
      "cell_type": "markdown",
      "source": [
        "##13)Test the Model##"
      ],
      "metadata": {
        "id": "JkLWkyMLsEvV"
      }
    },
    {
      "cell_type": "code",
      "source": [
        "def calc(slope, intercept, hours):\n",
        "    return slope*hours+intercept\n",
        "\n",
        "score = calc(model.coef_, model.intercept_, 9.5)\n",
        "print(score)\n"
      ],
      "metadata": {
        "colab": {
          "base_uri": "https://localhost:8080/"
        },
        "id": "_YCK663Msbz6",
        "outputId": "ec67f88a-15e2-4d69-abe6-2d517ac2fa4d"
      },
      "execution_count": null,
      "outputs": [
        {
          "output_type": "stream",
          "name": "stdout",
          "text": [
            "[[-320533.11143954  832118.60359606 9409537.58329356 4875560.56102723\n",
            "  2456341.52305405]]\n"
          ]
        }
      ]
    },
    {
      "cell_type": "code",
      "source": [
        " y_pred = model.predict(X_test)"
      ],
      "metadata": {
        "id": "EvLNys8nvBvL"
      },
      "execution_count": null,
      "outputs": []
    },
    {
      "cell_type": "code",
      "source": [
        "df_preds = pd.DataFrame({'Actual': y_test.squeeze(), 'Predicted': y_pred.squeeze()})\n",
        "print(df_preds)"
      ],
      "metadata": {
        "colab": {
          "base_uri": "https://localhost:8080/"
        },
        "id": "KvWaYW33wWz1",
        "outputId": "c8617373-d833-49af-ad56-4a7d2ce54604"
      },
      "execution_count": null,
      "outputs": [
        {
          "output_type": "stream",
          "name": "stdout",
          "text": [
            "      Actual     Predicted\n",
            "265  4403000  3.446981e+06\n",
            "54   7350000  6.158592e+06\n",
            "171  5250000  4.586523e+06\n",
            "244  4550000  4.537314e+06\n",
            "268  4382000  4.493755e+06\n",
            "..       ...           ...\n",
            "330  3990000  3.848026e+06\n",
            "425  3360000  3.499589e+06\n",
            "209  4900000  4.615511e+06\n",
            "485  2870000  3.112942e+06\n",
            "518  2450000  3.054850e+06\n",
            "\n",
            "[218 rows x 2 columns]\n"
          ]
        }
      ]
    },
    {
      "cell_type": "markdown",
      "source": [
        "##14)Measure the performance using Metrics.##"
      ],
      "metadata": {
        "id": "6uRYyuYbtwog"
      }
    },
    {
      "cell_type": "code",
      "source": [
        "from sklearn.metrics import mean_absolute_error, mean_squared_error"
      ],
      "metadata": {
        "id": "gl7IJNRww2Xh"
      },
      "execution_count": null,
      "outputs": []
    },
    {
      "cell_type": "code",
      "source": [
        "mae = mean_absolute_error(y_test, y_pred)\n",
        "mse = mean_squared_error(y_test, y_pred)\n",
        "rmse = np.sqrt(mse)"
      ],
      "metadata": {
        "id": "Kk31DFSHxBWW"
      },
      "execution_count": null,
      "outputs": []
    },
    {
      "cell_type": "code",
      "source": [
        "print(f'Mean absolute error: {mae:.2f}')\n",
        "print(f'Mean squared error: {mse:.2f}')\n",
        "print(f'Root mean squared error: {rmse:.2f}')"
      ],
      "metadata": {
        "id": "VohL6HCsxG2V",
        "outputId": "55b9a80c-184c-4a72-caff-c929a3003fb1",
        "colab": {
          "base_uri": "https://localhost:8080/"
        }
      },
      "execution_count": null,
      "outputs": [
        {
          "output_type": "stream",
          "name": "stdout",
          "text": [
            "Mean absolute error: 953251.01\n",
            "Mean squared error: 1684753087204.14\n",
            "Root mean squared error: 1297980.39\n"
          ]
        }
      ]
    }
  ]
}